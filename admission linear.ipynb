{
 "cells": [
  {
   "cell_type": "code",
   "execution_count": 55,
   "id": "65f99f36",
   "metadata": {},
   "outputs": [],
   "source": [
    "import pandas as pd\n",
    "import numpy as np\n",
    "import matplotlib.pyplot as plt\n",
    "import seaborn as sns"
   ]
  },
  {
   "cell_type": "code",
   "execution_count": 56,
   "id": "e3466494",
   "metadata": {},
   "outputs": [],
   "source": [
    "df=pd.read_csv('predict_admission.csv')"
   ]
  },
  {
   "cell_type": "code",
   "execution_count": 57,
   "id": "18f67277",
   "metadata": {},
   "outputs": [
    {
     "data": {
      "text/html": [
       "<div>\n",
       "<style scoped>\n",
       "    .dataframe tbody tr th:only-of-type {\n",
       "        vertical-align: middle;\n",
       "    }\n",
       "\n",
       "    .dataframe tbody tr th {\n",
       "        vertical-align: top;\n",
       "    }\n",
       "\n",
       "    .dataframe thead th {\n",
       "        text-align: right;\n",
       "    }\n",
       "</style>\n",
       "<table border=\"1\" class=\"dataframe\">\n",
       "  <thead>\n",
       "    <tr style=\"text-align: right;\">\n",
       "      <th></th>\n",
       "      <th>Serial No.</th>\n",
       "      <th>GRE Score</th>\n",
       "      <th>TOEFL Score</th>\n",
       "      <th>University Rating</th>\n",
       "      <th>SOP</th>\n",
       "      <th>LOR</th>\n",
       "      <th>CGPA</th>\n",
       "      <th>Research</th>\n",
       "      <th>Chance of Admit</th>\n",
       "    </tr>\n",
       "  </thead>\n",
       "  <tbody>\n",
       "    <tr>\n",
       "      <th>0</th>\n",
       "      <td>1</td>\n",
       "      <td>337</td>\n",
       "      <td>118</td>\n",
       "      <td>4</td>\n",
       "      <td>4.5</td>\n",
       "      <td>4.5</td>\n",
       "      <td>9.65</td>\n",
       "      <td>1</td>\n",
       "      <td>0.92</td>\n",
       "    </tr>\n",
       "    <tr>\n",
       "      <th>1</th>\n",
       "      <td>2</td>\n",
       "      <td>324</td>\n",
       "      <td>107</td>\n",
       "      <td>4</td>\n",
       "      <td>4.0</td>\n",
       "      <td>4.5</td>\n",
       "      <td>8.87</td>\n",
       "      <td>1</td>\n",
       "      <td>0.76</td>\n",
       "    </tr>\n",
       "    <tr>\n",
       "      <th>2</th>\n",
       "      <td>3</td>\n",
       "      <td>316</td>\n",
       "      <td>104</td>\n",
       "      <td>3</td>\n",
       "      <td>3.0</td>\n",
       "      <td>3.5</td>\n",
       "      <td>8.00</td>\n",
       "      <td>1</td>\n",
       "      <td>0.72</td>\n",
       "    </tr>\n",
       "    <tr>\n",
       "      <th>3</th>\n",
       "      <td>4</td>\n",
       "      <td>322</td>\n",
       "      <td>110</td>\n",
       "      <td>3</td>\n",
       "      <td>3.5</td>\n",
       "      <td>2.5</td>\n",
       "      <td>8.67</td>\n",
       "      <td>1</td>\n",
       "      <td>0.80</td>\n",
       "    </tr>\n",
       "    <tr>\n",
       "      <th>4</th>\n",
       "      <td>5</td>\n",
       "      <td>314</td>\n",
       "      <td>103</td>\n",
       "      <td>2</td>\n",
       "      <td>2.0</td>\n",
       "      <td>3.0</td>\n",
       "      <td>8.21</td>\n",
       "      <td>0</td>\n",
       "      <td>0.65</td>\n",
       "    </tr>\n",
       "    <tr>\n",
       "      <th>...</th>\n",
       "      <td>...</td>\n",
       "      <td>...</td>\n",
       "      <td>...</td>\n",
       "      <td>...</td>\n",
       "      <td>...</td>\n",
       "      <td>...</td>\n",
       "      <td>...</td>\n",
       "      <td>...</td>\n",
       "      <td>...</td>\n",
       "    </tr>\n",
       "    <tr>\n",
       "      <th>495</th>\n",
       "      <td>496</td>\n",
       "      <td>332</td>\n",
       "      <td>108</td>\n",
       "      <td>5</td>\n",
       "      <td>4.5</td>\n",
       "      <td>4.0</td>\n",
       "      <td>9.02</td>\n",
       "      <td>1</td>\n",
       "      <td>0.87</td>\n",
       "    </tr>\n",
       "    <tr>\n",
       "      <th>496</th>\n",
       "      <td>497</td>\n",
       "      <td>337</td>\n",
       "      <td>117</td>\n",
       "      <td>5</td>\n",
       "      <td>5.0</td>\n",
       "      <td>5.0</td>\n",
       "      <td>9.87</td>\n",
       "      <td>1</td>\n",
       "      <td>0.96</td>\n",
       "    </tr>\n",
       "    <tr>\n",
       "      <th>497</th>\n",
       "      <td>498</td>\n",
       "      <td>330</td>\n",
       "      <td>120</td>\n",
       "      <td>5</td>\n",
       "      <td>4.5</td>\n",
       "      <td>5.0</td>\n",
       "      <td>9.56</td>\n",
       "      <td>1</td>\n",
       "      <td>0.93</td>\n",
       "    </tr>\n",
       "    <tr>\n",
       "      <th>498</th>\n",
       "      <td>499</td>\n",
       "      <td>312</td>\n",
       "      <td>103</td>\n",
       "      <td>4</td>\n",
       "      <td>4.0</td>\n",
       "      <td>5.0</td>\n",
       "      <td>8.43</td>\n",
       "      <td>0</td>\n",
       "      <td>0.73</td>\n",
       "    </tr>\n",
       "    <tr>\n",
       "      <th>499</th>\n",
       "      <td>500</td>\n",
       "      <td>327</td>\n",
       "      <td>113</td>\n",
       "      <td>4</td>\n",
       "      <td>4.5</td>\n",
       "      <td>4.5</td>\n",
       "      <td>9.04</td>\n",
       "      <td>0</td>\n",
       "      <td>0.84</td>\n",
       "    </tr>\n",
       "  </tbody>\n",
       "</table>\n",
       "<p>500 rows × 9 columns</p>\n",
       "</div>"
      ],
      "text/plain": [
       "     Serial No.  GRE Score  TOEFL Score  University Rating  SOP  LOR   CGPA  \\\n",
       "0             1        337          118                  4  4.5   4.5  9.65   \n",
       "1             2        324          107                  4  4.0   4.5  8.87   \n",
       "2             3        316          104                  3  3.0   3.5  8.00   \n",
       "3             4        322          110                  3  3.5   2.5  8.67   \n",
       "4             5        314          103                  2  2.0   3.0  8.21   \n",
       "..          ...        ...          ...                ...  ...   ...   ...   \n",
       "495         496        332          108                  5  4.5   4.0  9.02   \n",
       "496         497        337          117                  5  5.0   5.0  9.87   \n",
       "497         498        330          120                  5  4.5   5.0  9.56   \n",
       "498         499        312          103                  4  4.0   5.0  8.43   \n",
       "499         500        327          113                  4  4.5   4.5  9.04   \n",
       "\n",
       "     Research  Chance of Admit   \n",
       "0           1              0.92  \n",
       "1           1              0.76  \n",
       "2           1              0.72  \n",
       "3           1              0.80  \n",
       "4           0              0.65  \n",
       "..        ...               ...  \n",
       "495         1              0.87  \n",
       "496         1              0.96  \n",
       "497         1              0.93  \n",
       "498         0              0.73  \n",
       "499         0              0.84  \n",
       "\n",
       "[500 rows x 9 columns]"
      ]
     },
     "execution_count": 57,
     "metadata": {},
     "output_type": "execute_result"
    }
   ],
   "source": [
    "df"
   ]
  },
  {
   "cell_type": "code",
   "execution_count": 58,
   "id": "376b426d",
   "metadata": {},
   "outputs": [
    {
     "name": "stdout",
     "output_type": "stream",
     "text": [
      "<class 'pandas.core.frame.DataFrame'>\n",
      "RangeIndex: 500 entries, 0 to 499\n",
      "Data columns (total 9 columns):\n",
      " #   Column             Non-Null Count  Dtype  \n",
      "---  ------             --------------  -----  \n",
      " 0   Serial No.         500 non-null    int64  \n",
      " 1   GRE Score          500 non-null    int64  \n",
      " 2   TOEFL Score        500 non-null    int64  \n",
      " 3   University Rating  500 non-null    int64  \n",
      " 4   SOP                500 non-null    float64\n",
      " 5   LOR                500 non-null    float64\n",
      " 6   CGPA               500 non-null    float64\n",
      " 7   Research           500 non-null    int64  \n",
      " 8   Chance of Admit    500 non-null    float64\n",
      "dtypes: float64(4), int64(5)\n",
      "memory usage: 35.3 KB\n"
     ]
    }
   ],
   "source": [
    "df.info()"
   ]
  },
  {
   "cell_type": "code",
   "execution_count": 59,
   "id": "f40ad32e",
   "metadata": {},
   "outputs": [
    {
     "data": {
      "text/plain": [
       "Serial No.           500\n",
       "GRE Score            500\n",
       "TOEFL Score          500\n",
       "University Rating    500\n",
       "SOP                  500\n",
       "LOR                  500\n",
       "CGPA                 500\n",
       "Research             500\n",
       "Chance of Admit      500\n",
       "dtype: int64"
      ]
     },
     "execution_count": 59,
     "metadata": {},
     "output_type": "execute_result"
    }
   ],
   "source": [
    "df.isnull().count()"
   ]
  },
  {
   "cell_type": "code",
   "execution_count": 60,
   "id": "732e73f0",
   "metadata": {},
   "outputs": [
    {
     "data": {
      "text/plain": [
       "(500, 9)"
      ]
     },
     "execution_count": 60,
     "metadata": {},
     "output_type": "execute_result"
    }
   ],
   "source": [
    "df.shape"
   ]
  },
  {
   "cell_type": "code",
   "execution_count": 61,
   "id": "bda591ac",
   "metadata": {},
   "outputs": [],
   "source": [
    "i = df.iloc [:,1:8].values\n",
    "d = df.iloc[:,-1]"
   ]
  },
  {
   "cell_type": "code",
   "execution_count": 62,
   "id": "472c4953",
   "metadata": {},
   "outputs": [
    {
     "data": {
      "text/plain": [
       "array([[337.  , 118.  ,   4.  , ...,   4.5 ,   9.65,   1.  ],\n",
       "       [324.  , 107.  ,   4.  , ...,   4.5 ,   8.87,   1.  ],\n",
       "       [316.  , 104.  ,   3.  , ...,   3.5 ,   8.  ,   1.  ],\n",
       "       ...,\n",
       "       [330.  , 120.  ,   5.  , ...,   5.  ,   9.56,   1.  ],\n",
       "       [312.  , 103.  ,   4.  , ...,   5.  ,   8.43,   0.  ],\n",
       "       [327.  , 113.  ,   4.  , ...,   4.5 ,   9.04,   0.  ]])"
      ]
     },
     "execution_count": 62,
     "metadata": {},
     "output_type": "execute_result"
    }
   ],
   "source": [
    "i"
   ]
  },
  {
   "cell_type": "code",
   "execution_count": 63,
   "id": "adfa06f3",
   "metadata": {},
   "outputs": [
    {
     "data": {
      "text/plain": [
       "0      0.92\n",
       "1      0.76\n",
       "2      0.72\n",
       "3      0.80\n",
       "4      0.65\n",
       "       ... \n",
       "495    0.87\n",
       "496    0.96\n",
       "497    0.93\n",
       "498    0.73\n",
       "499    0.84\n",
       "Name: Chance of Admit , Length: 500, dtype: float64"
      ]
     },
     "execution_count": 63,
     "metadata": {},
     "output_type": "execute_result"
    }
   ],
   "source": [
    "d"
   ]
  },
  {
   "cell_type": "code",
   "execution_count": 68,
   "id": "38d8d9a1",
   "metadata": {},
   "outputs": [
    {
     "data": {
      "text/plain": [
       "array([[318.  , 106.  ,   2.  ,   4.  ,   4.  ,   7.92,   1.  ],\n",
       "       [321.  , 114.  ,   4.  ,   4.  ,   5.  ,   9.12,   0.  ],\n",
       "       [321.  , 111.  ,   3.  ,   2.5 ,   3.  ,   8.9 ,   1.  ],\n",
       "       [328.  , 116.  ,   5.  ,   4.5 ,   5.  ,   9.08,   1.  ],\n",
       "       [301.  , 102.  ,   3.  ,   2.5 ,   2.  ,   8.13,   1.  ],\n",
       "       [314.  , 105.  ,   3.  ,   3.5 ,   2.5 ,   8.3 ,   0.  ],\n",
       "       [298.  , 101.  ,   2.  ,   1.5 ,   2.  ,   7.86,   0.  ],\n",
       "       [302.  , 110.  ,   3.  ,   4.  ,   4.5 ,   8.5 ,   0.  ],\n",
       "       [297.  , 100.  ,   1.  ,   1.5 ,   2.  ,   7.9 ,   0.  ],\n",
       "       [324.  , 105.  ,   3.  ,   3.  ,   4.  ,   8.75,   0.  ],\n",
       "       [317.  , 103.  ,   2.  ,   2.5 ,   2.  ,   8.15,   0.  ],\n",
       "       [320.  , 104.  ,   3.  ,   3.  ,   2.5 ,   8.57,   1.  ],\n",
       "       [314.  , 102.  ,   2.  ,   2.  ,   2.5 ,   8.24,   0.  ],\n",
       "       [313.  , 109.  ,   3.  ,   4.  ,   3.5 ,   9.  ,   0.  ],\n",
       "       [334.  , 117.  ,   5.  ,   4.  ,   4.5 ,   9.07,   1.  ],\n",
       "       [297.  ,  96.  ,   2.  ,   2.5 ,   1.5 ,   7.89,   0.  ],\n",
       "       [323.  , 110.  ,   4.  ,   4.  ,   5.  ,   8.88,   1.  ],\n",
       "       [317.  , 106.  ,   2.  ,   2.  ,   3.5 ,   8.12,   0.  ],\n",
       "       [326.  , 108.  ,   3.  ,   3.  ,   3.5 ,   8.89,   0.  ],\n",
       "       [300.  , 105.  ,   1.  ,   1.  ,   2.  ,   7.8 ,   0.  ],\n",
       "       [295.  ,  99.  ,   2.  ,   2.5 ,   3.  ,   7.65,   0.  ],\n",
       "       [320.  , 104.  ,   3.  ,   3.5 ,   4.5 ,   8.34,   1.  ],\n",
       "       [296.  , 101.  ,   1.  ,   2.5 ,   3.  ,   7.68,   0.  ],\n",
       "       [331.  , 116.  ,   5.  ,   5.  ,   5.  ,   9.38,   1.  ],\n",
       "       [322.  , 110.  ,   5.  ,   5.  ,   4.  ,   9.1 ,   1.  ],\n",
       "       [318.  , 110.  ,   1.  ,   2.5 ,   3.5 ,   8.54,   1.  ],\n",
       "       [325.  , 114.  ,   4.  ,   3.  ,   2.  ,   8.4 ,   0.  ],\n",
       "       [311.  ,  98.  ,   1.  ,   1.  ,   2.5 ,   7.46,   0.  ],\n",
       "       [306.  , 100.  ,   2.  ,   3.  ,   3.  ,   8.  ,   0.  ],\n",
       "       [304.  , 100.  ,   2.  ,   2.5 ,   3.5 ,   8.07,   0.  ],\n",
       "       [316.  , 103.  ,   2.  ,   2.  ,   4.5 ,   8.74,   0.  ],\n",
       "       [296.  ,  99.  ,   2.  ,   3.  ,   3.5 ,   7.28,   0.  ],\n",
       "       [301.  , 106.  ,   4.  ,   2.5 ,   3.  ,   8.47,   0.  ],\n",
       "       [323.  , 110.  ,   5.  ,   4.  ,   5.  ,   8.98,   1.  ],\n",
       "       [315.  , 105.  ,   2.  ,   2.  ,   2.5 ,   7.65,   0.  ],\n",
       "       [298.  , 101.  ,   4.  ,   2.5 ,   4.5 ,   7.69,   1.  ],\n",
       "       [328.  , 108.  ,   4.  ,   4.5 ,   4.  ,   9.18,   1.  ],\n",
       "       [324.  , 113.  ,   4.  ,   4.5 ,   4.5 ,   9.25,   1.  ],\n",
       "       [300.  , 102.  ,   3.  ,   3.5 ,   2.5 ,   8.17,   0.  ],\n",
       "       [310.  , 104.  ,   3.  ,   2.  ,   3.5 ,   8.37,   0.  ],\n",
       "       [314.  , 107.  ,   2.  ,   2.5 ,   4.  ,   8.27,   0.  ],\n",
       "       [329.  , 114.  ,   5.  ,   4.  ,   5.  ,   9.3 ,   1.  ],\n",
       "       [330.  , 116.  ,   4.  ,   4.  ,   3.5 ,   9.23,   1.  ],\n",
       "       [316.  , 110.  ,   3.  ,   3.5 ,   4.  ,   8.56,   0.  ],\n",
       "       [327.  , 112.  ,   3.  ,   3.  ,   3.  ,   8.72,   1.  ],\n",
       "       [324.  , 107.  ,   4.  ,   4.  ,   4.5 ,   8.87,   1.  ],\n",
       "       [333.  , 119.  ,   5.  ,   5.  ,   4.5 ,   9.78,   1.  ],\n",
       "       [326.  , 116.  ,   3.  ,   3.5 ,   4.  ,   9.14,   1.  ],\n",
       "       [309.  , 111.  ,   2.  ,   2.5 ,   4.  ,   8.03,   0.  ],\n",
       "       [314.  , 106.  ,   2.  ,   4.  ,   3.5 ,   8.25,   0.  ]])"
      ]
     },
     "execution_count": 68,
     "metadata": {},
     "output_type": "execute_result"
    }
   ],
   "source": [
    "from sklearn.model_selection import train_test_split\n",
    "#from sklearn.cross_validation import train_test_split\n",
    "x_train, x_test, y_train, y_test = train_test_split (i, d, test_size = .10,random_state=0)\n",
    "x_test"
   ]
  },
  {
   "cell_type": "code",
   "execution_count": 69,
   "id": "fed655d9",
   "metadata": {},
   "outputs": [
    {
     "name": "stdout",
     "output_type": "stream",
     "text": [
      "predicted y records:\n",
      "[0.65913382 0.83129492 0.7785418  0.87712939 0.61027451 0.64840728\n",
      " 0.53743366 0.69905688 0.53119466 0.74218847 0.6136431  0.71090402\n",
      " 0.622768   0.75727196 0.88018218 0.51861776 0.81994366 0.64261636\n",
      " 0.76252942 0.53846166 0.52091031 0.71868769 0.52593217 0.91853304\n",
      " 0.83566271 0.72452935 0.70284945 0.50663557 0.58546336 0.59701225\n",
      " 0.72040057 0.48939872 0.65953301 0.83765792 0.56504657 0.59856646\n",
      " 0.84248826 0.86637037 0.59930063 0.65921113 0.66706297 0.8972898\n",
      " 0.86584699 0.72169952 0.77269393 0.80347977 0.96898907 0.84912699\n",
      " 0.64200412 0.65725838]\n"
     ]
    }
   ],
   "source": [
    "from sklearn.linear_model import LinearRegression\n",
    "lnr = LinearRegression()\n",
    "lnr.fit (x_train, y_train ) \n",
    "\n",
    "predicted_y = lnr.predict(x_test)\n",
    "print(\"predicted y records:\")\n",
    "print(predicted_y)"
   ]
  },
  {
   "cell_type": "code",
   "execution_count": 70,
   "id": "512fc181",
   "metadata": {},
   "outputs": [
    {
     "name": "stdout",
     "output_type": "stream",
     "text": [
      "RMSE is:-\n",
      "Mean Absolute Error(MAE): 0.042394182400061285\n",
      "Mean Squared Error(MSE): 0.0028000548701641024\n",
      "Root Mean Squared Error(RMSE): 0.052915544693068244\n"
     ]
    }
   ],
   "source": [
    "\n",
    "from sklearn.metrics import mean_absolute_error\n",
    "from sklearn.metrics import mean_squared_error\n",
    "from math import sqrt\n",
    "print(\"RMSE is:-\")\n",
    "\n",
    "print('Mean Absolute Error(MAE):', mean_absolute_error(y_test, predicted_y))\n",
    "print('Mean Squared Error(MSE):', mean_squared_error(y_test, predicted_y))\n",
    "print('Root Mean Squared Error(RMSE):', np.sqrt(mean_squared_error(y_test, predicted_y)))"
   ]
  },
  {
   "cell_type": "code",
   "execution_count": null,
   "id": "30197438",
   "metadata": {},
   "outputs": [],
   "source": []
  },
  {
   "cell_type": "code",
   "execution_count": null,
   "id": "19b525cc",
   "metadata": {},
   "outputs": [],
   "source": []
  },
  {
   "cell_type": "code",
   "execution_count": null,
   "id": "053ae2f2",
   "metadata": {},
   "outputs": [],
   "source": []
  },
  {
   "cell_type": "code",
   "execution_count": null,
   "id": "723deb88",
   "metadata": {},
   "outputs": [],
   "source": []
  },
  {
   "cell_type": "code",
   "execution_count": null,
   "id": "49037169",
   "metadata": {},
   "outputs": [],
   "source": []
  }
 ],
 "metadata": {
  "kernelspec": {
   "display_name": "Python 3",
   "language": "python",
   "name": "python3"
  },
  "language_info": {
   "codemirror_mode": {
    "name": "ipython",
    "version": 3
   },
   "file_extension": ".py",
   "mimetype": "text/x-python",
   "name": "python",
   "nbconvert_exporter": "python",
   "pygments_lexer": "ipython3",
   "version": "3.8.8"
  }
 },
 "nbformat": 4,
 "nbformat_minor": 5
}
