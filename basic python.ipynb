{
 "cells": [
  {
   "cell_type": "code",
   "execution_count": 1,
   "id": "3f2f0688",
   "metadata": {},
   "outputs": [],
   "source": [
    "import numpy as np \n",
    "import pandas as pd\n",
    "import matplotlib.pyplot as plt\n",
    "import seaborn as sns"
   ]
  },
  {
   "cell_type": "code",
   "execution_count": null,
   "id": "8ba1396c",
   "metadata": {},
   "outputs": [],
   "source": []
  },
  {
   "cell_type": "code",
   "execution_count": null,
   "id": "bfc96d97",
   "metadata": {},
   "outputs": [],
   "source": []
  },
  {
   "cell_type": "code",
   "execution_count": 2,
   "id": "ea7dca71",
   "metadata": {},
   "outputs": [
    {
     "name": "stdout",
     "output_type": "stream",
     "text": [
      "hello,world\n"
     ]
    }
   ],
   "source": [
    "print(\"hello,world\")"
   ]
  },
  {
   "cell_type": "code",
   "execution_count": null,
   "id": "4ea22155",
   "metadata": {},
   "outputs": [],
   "source": []
  },
  {
   "cell_type": "markdown",
   "id": "7924cd1f",
   "metadata": {},
   "source": [
    "# ALPHABETS \n",
    " There are 26 element\n",
    " \n",
    " Elements of alphabets are divided into two types:\n",
    " \n",
    " $$1)vowels$$\n",
    " \n",
    " $$2)constants$$"
   ]
  },
  {
   "cell_type": "code",
   "execution_count": 3,
   "id": "45028c5b",
   "metadata": {},
   "outputs": [
    {
     "name": "stdout",
     "output_type": "stream",
     "text": [
      "<class 'int'>\n",
      "<class 'float'>\n",
      "10.0 <class 'float'>\n"
     ]
    }
   ],
   "source": [
    "#type\n",
    "a=4\n",
    "print(type(a))\n",
    "b=2.5\n",
    "print(type(b))\n",
    "c=a*b\n",
    "print(c,type(c))"
   ]
  },
  {
   "cell_type": "code",
   "execution_count": 4,
   "id": "614880c0",
   "metadata": {},
   "outputs": [
    {
     "name": "stdout",
     "output_type": "stream",
     "text": [
      "5\n",
      "[1, 3, 5, 7, 9]\n",
      "3 9\n",
      "[1, [1, 2, 3, 4, 5], 5, 7, 9]\n",
      "[1, 5, 7, 9]\n",
      "[1, 5]\n"
     ]
    }
   ],
   "source": [
    "#list\n",
    "alist=[1,3,5,7,9]\n",
    "print(len(alist))\n",
    "print(alist)\n",
    "print(alist[1],alist[4])\n",
    "alist[1]=[1,2,3,4,5]\n",
    "print(alist)\n",
    "alist.pop(1)\n",
    "print(alist)\n",
    "print(alist[0:2])"
   ]
  },
  {
   "cell_type": "code",
   "execution_count": 5,
   "id": "9be5ccd2",
   "metadata": {},
   "outputs": [
    {
     "name": "stdout",
     "output_type": "stream",
     "text": [
      "(9, 8, 7, 6, 5, 4)\n",
      "(1, 2, 3, 4, 5)\n"
     ]
    }
   ],
   "source": [
    "# tuple\n",
    "atuple=(9,8,7,6,5,4)\n",
    "print(atuple)\n",
    "dummy=list(atuple)\n",
    "dummy=(1,2,3,4,5)\n",
    "atuple=tuple(dummy)\n",
    "print(atuple)"
   ]
  },
  {
   "cell_type": "code",
   "execution_count": 6,
   "id": "ada6a740",
   "metadata": {
    "scrolled": true
   },
   "outputs": [
    {
     "name": "stdout",
     "output_type": "stream",
     "text": [
      "5\n",
      "False\n",
      "True\n",
      "6\n"
     ]
    }
   ],
   "source": [
    "#set\n",
    "bset={1,2,3,4,5}\n",
    "print(len(bset))\n",
    "print('fire' in bset)\n",
    "bset.add('fire')\n",
    "print('fire' in bset)\n",
    "print(len(bset))"
   ]
  },
  {
   "cell_type": "code",
   "execution_count": 7,
   "id": "91ab9c01",
   "metadata": {},
   "outputs": [
    {
     "name": "stdout",
     "output_type": "stream",
     "text": [
      "{'brand': 'Asus', 'product': 'ROG', 'model': 'phone 3'}\n",
      "i have Asus ROG phone 3\n",
      "i have Asus ROG STRIX\n"
     ]
    }
   ],
   "source": [
    "#dictionary\n",
    "adict={\"brand\":\"Asus\",\"product\":\"ROG\",\"model\":\"phone 3\"}\n",
    "print(adict)\n",
    "print('i have',adict['brand'],adict['product'],adict['model'])\n",
    "adict['model']='STRIX'\n",
    "print('i have',adict['brand'],adict['product'],adict['model'])"
   ]
  },
  {
   "cell_type": "markdown",
   "id": "494e5788",
   "metadata": {},
   "source": [
    "# flow control\n",
    "## loops"
   ]
  },
  {
   "cell_type": "code",
   "execution_count": 8,
   "id": "8ec23fe7",
   "metadata": {},
   "outputs": [
    {
     "name": "stdout",
     "output_type": "stream",
     "text": [
      "1\n",
      "2\n",
      "3\n",
      "7\n",
      "5\n",
      "6\n",
      "loop\n",
      "2\n",
      "3\n",
      "7\n",
      "done\n",
      "4\n",
      "6\n",
      "14\n",
      "done\n",
      "6\n",
      "9\n",
      "21\n",
      "done\n",
      "14\n",
      "21\n",
      "49\n",
      "done\n",
      "10\n",
      "15\n",
      "35\n",
      "done\n",
      "12\n",
      "18\n",
      "42\n",
      "done\n",
      "nested loop\n"
     ]
    }
   ],
   "source": [
    "#for loop\n",
    "alist=[1,2,3,7,5,6]\n",
    "x=0\n",
    "for i in alist:\n",
    "    print(i)\n",
    "    x=x+1\n",
    "print('loop')\n",
    "list(range(1,6,2))\n",
    "for i in alist:\n",
    "    for j in alist[1:4]:\n",
    "        print(i*j)\n",
    "    print('done')\n",
    "print('nested loop')\n",
    "\n",
    "    "
   ]
  },
  {
   "cell_type": "code",
   "execution_count": 9,
   "id": "bd08d7e4",
   "metadata": {},
   "outputs": [
    {
     "name": "stdout",
     "output_type": "stream",
     "text": [
      "7\n",
      "9\n",
      "while loop\n"
     ]
    }
   ],
   "source": [
    "#while loop\n",
    "i=7\n",
    "while i<11:\n",
    "    print(i)\n",
    "    i=i+2\n",
    "print('while loop')"
   ]
  },
  {
   "cell_type": "markdown",
   "id": "7cfa88f7",
   "metadata": {},
   "source": [
    "# contionals"
   ]
  },
  {
   "cell_type": "code",
   "execution_count": 10,
   "id": "af5ced19",
   "metadata": {},
   "outputs": [
    {
     "name": "stdout",
     "output_type": "stream",
     "text": [
      "10 i is smaller then 11 \n",
      "done\n"
     ]
    }
   ],
   "source": [
    "#if\n",
    "i=10\n",
    "if i<11:\n",
    "    print(i,'i is smaller then 11 ')\n",
    "print('done')\n",
    "    \n",
    "    "
   ]
  },
  {
   "cell_type": "code",
   "execution_count": 11,
   "id": "c7b67f8e",
   "metadata": {},
   "outputs": [
    {
     "name": "stdout",
     "output_type": "stream",
     "text": [
      "10 i is bigger than 9\n",
      "done\n"
     ]
    }
   ],
   "source": [
    "i=10\n",
    "if i<9:\n",
    "    print(i,'i is smaller than 9')\n",
    "else:\n",
    "    print(i,'i is bigger than 9')\n",
    "print('done')\n"
   ]
  },
  {
   "cell_type": "code",
   "execution_count": 12,
   "id": "22261a0b",
   "metadata": {},
   "outputs": [
    {
     "name": "stdout",
     "output_type": "stream",
     "text": [
      "is bigger than 4 but less than 9\n",
      "done\n"
     ]
    }
   ],
   "source": [
    "i=10\n",
    "if i<9:\n",
    "    print('is smaller than 9')\n",
    "elif i>4:\n",
    "    print('is bigger than 4 but less than 9')\n",
    "else:\n",
    "    print('smaller than 4')\n",
    "print('done')\n"
   ]
  },
  {
   "cell_type": "code",
   "execution_count": 13,
   "id": "5cb1700e",
   "metadata": {},
   "outputs": [],
   "source": [
    "#user define funtion"
   ]
  },
  {
   "cell_type": "code",
   "execution_count": 14,
   "id": "30167a03",
   "metadata": {},
   "outputs": [
    {
     "name": "stdout",
     "output_type": "stream",
     "text": [
      "64\n",
      "None\n"
     ]
    }
   ],
   "source": [
    "#define function\n",
    "\n",
    "def sqr(x):\n",
    "    y=x*x\n",
    "    \"\"\"this function is use as a square funtion \"\"\"\n",
    "    return y\n",
    "print(sqr(8))\n",
    "print(sqr.__doc__)\n"
   ]
  },
  {
   "cell_type": "code",
   "execution_count": 15,
   "id": "54d23c0f",
   "metadata": {},
   "outputs": [
    {
     "name": "stdout",
     "output_type": "stream",
     "text": [
      "[1, 2, 3, 4, 5, 6]\n"
     ]
    }
   ],
   "source": [
    "def combine(x,y):\n",
    "    lenx=len(x)\n",
    "    leny=len(y)\n",
    "    z=x+y\n",
    "    return z\n",
    "print(combine([1,2,3],[4,5,6]))\n",
    "      "
   ]
  },
  {
   "cell_type": "code",
   "execution_count": 16,
   "id": "08c9b89d",
   "metadata": {},
   "outputs": [
    {
     "name": "stdout",
     "output_type": "stream",
     "text": [
      "4\n",
      "[1, 2, 3, 4, 5, 6]\n"
     ]
    }
   ],
   "source": [
    "#lambda funtion\n",
    "sqr=lambda x:x*x\n",
    "combine=lambda x,y:x+y\n",
    "print(sqr(2))\n",
    "print(combine([1,2,3],[4,5,6]))\n"
   ]
  },
  {
   "cell_type": "markdown",
   "id": "7ea94ec5",
   "metadata": {},
   "source": [
    "# NUMPY \n",
    "## IT IS USE FOR HIGH LEVEL MATHEMATHICS LIKE LOGARITHAM ,COSINE ,EXPOTENTIAL"
   ]
  },
  {
   "cell_type": "code",
   "execution_count": 17,
   "id": "35dae06d",
   "metadata": {},
   "outputs": [],
   "source": [
    "#for defining np and to use numpy\n",
    "import numpy as np"
   ]
  },
  {
   "cell_type": "code",
   "execution_count": 18,
   "id": "a927aded",
   "metadata": {},
   "outputs": [
    {
     "name": "stdout",
     "output_type": "stream",
     "text": [
      "-1.0\n",
      "10.954451150103322\n"
     ]
    }
   ],
   "source": [
    "print(np.cos(np.pi))\n",
    "print(np.log(np.exp(np.sqrt(120))))"
   ]
  },
  {
   "cell_type": "code",
   "execution_count": 19,
   "id": "984cc715",
   "metadata": {},
   "outputs": [
    {
     "name": "stdout",
     "output_type": "stream",
     "text": [
      "[1 2 3 4 5]\n"
     ]
    }
   ],
   "source": [
    "#ArrAY AND MAtrics\n",
    "vec=np.array([1,2,3,4,5])\n",
    "print(vec)"
   ]
  },
  {
   "cell_type": "code",
   "execution_count": 20,
   "id": "5c0233a3",
   "metadata": {},
   "outputs": [
    {
     "name": "stdout",
     "output_type": "stream",
     "text": [
      "[[1 2 3]\n",
      " [4 5 6]\n",
      " [7 8 9]]\n",
      "\n",
      "[[9 8 7]\n",
      " [6 5 4]\n",
      " [3 2 1]]\n",
      "\n",
      "[[ 9 16 21]\n",
      " [24 25 24]\n",
      " [21 16  9]]\n",
      "\n",
      "[[ 9 32 49]\n",
      " [12 25 32]\n",
      " [ 9 12  9]]\n"
     ]
    }
   ],
   "source": [
    "mat=np.array([[1,2,3],[4,5,6],[7,8,9]])\n",
    "mat1=np.array([[9,8,7],[6,5,4],[3,2,1]])\n",
    "print(mat)\n",
    "print(\"\")\n",
    "print(mat1)\n",
    "print(\"\")\n",
    "print(mat*mat1)\n",
    "print(\"\")\n",
    "print(mat.T*mat1)"
   ]
  },
  {
   "cell_type": "code",
   "execution_count": 21,
   "id": "aac1d349",
   "metadata": {},
   "outputs": [
    {
     "name": "stdout",
     "output_type": "stream",
     "text": [
      "[ 1.07492798  1.83303948 -1.93740004  0.1986123   0.63123183 -1.21727715\n",
      "  0.78118805  1.8081306  -0.23938695 -0.79480844  1.62471136 -0.85422547\n",
      " -0.17138202 -0.90023843  2.01834086  0.76110828  0.31939906  1.17723964\n",
      "  1.52650655]\n",
      "\n",
      "-1.2172771522705865\n",
      "\n",
      "[ 1.83303948 -1.93740004  0.1986123   0.63123183 -1.21727715  0.78118805\n",
      "  1.8081306  -0.23938695 -0.79480844  1.62471136]\n",
      "\n",
      "[ 1.83303948  0.1986123  -1.21727715  1.8081306  -0.79480844]\n",
      "\n",
      "[ 0.          0.          0.          0.          0.          0.\n",
      "  0.          0.          0.          0.          1.62471136 -0.85422547\n",
      " -0.17138202 -0.90023843  2.01834086  0.76110828  0.31939906  1.17723964\n",
      "  1.52650655]\n",
      "[ 0.          1.          2.          3.          4.          5.\n",
      "  6.          7.          8.          9.          1.62471136 -0.85422547\n",
      " -0.17138202 -0.90023843  2.01834086  0.76110828  0.31939906  1.17723964\n",
      "  1.52650655]\n"
     ]
    }
   ],
   "source": [
    "rdvec=np.random.randn(19)\n",
    "print(rdvec)\n",
    "print('')\n",
    "print(rdvec[5])\n",
    "print('')\n",
    "print(rdvec[1:11])\n",
    "print('')\n",
    "print(rdvec[np.arange(1,10,2)])\n",
    "print('')\n",
    "rdvec[0:10]=0\n",
    "print(rdvec)\n",
    "rdvec[0:10]=[0,1,2,3,4,5,6,7,8,9]\n",
    "print(rdvec)\n"
   ]
  },
  {
   "cell_type": "code",
   "execution_count": 22,
   "id": "4b03d9d1",
   "metadata": {},
   "outputs": [
    {
     "name": "stdout",
     "output_type": "stream",
     "text": [
      "[[ 0.07358861 -0.63460589 -1.01435031 -0.19749158]\n",
      " [-0.08674327  0.8286267  -0.64010843  1.07844588]\n",
      " [ 0.91604895 -0.47745348 -0.32484494  0.7440772 ]\n",
      " [-1.21123687 -0.61338414 -0.19743721  1.246533  ]]\n",
      "\n",
      "0.744077197718769\n",
      "\n",
      "0.744077197718769\n",
      "\n",
      "[[ 0.07358861 -0.63460589]\n",
      " [-0.08674327  0.8286267 ]]\n",
      "\n",
      "[[ 1.          1.         -1.01435031 -0.19749158]\n",
      " [ 1.          1.         -0.64010843  1.07844588]\n",
      " [ 1.          1.         -0.32484494  0.7440772 ]\n",
      " [-1.21123687 -0.61338414 -0.19743721  1.246533  ]]\n",
      "\n",
      "[[ 1.          1.         -1.01435031 -0.19749158]\n",
      " [ 1.          1.         -0.64010843  1.07844588]\n",
      " [ 1.          1.         -0.32484494  0.7440772 ]\n",
      " [ 0.          0.          0.          0.        ]]\n",
      "\n",
      "[[0. 0. 0. 0.]\n",
      " [0. 0. 0. 0.]\n",
      " [0. 0. 0. 0.]\n",
      " [0. 0. 0. 0.]]\n"
     ]
    }
   ],
   "source": [
    "rdmat=np.random.randn(4,4)\n",
    "print(rdmat)\n",
    "print('')\n",
    "print(rdmat[2][3])\n",
    "print('')\n",
    "print(rdmat[2,3])\n",
    "print('')\n",
    "print(rdmat[0:2,0:2])\n",
    "print('')\n",
    "rdmat[0:3,0:2]=[1]\n",
    "print(rdmat)\n",
    "print('')\n",
    "rdmat[3:4,0:4]=[0]\n",
    "print(rdmat)\n",
    "print('')\n",
    "submat=rdmat.copy()\n",
    "submat[:]=[0]\n",
    "print(submat)\n"
   ]
  },
  {
   "cell_type": "code",
   "execution_count": 23,
   "id": "59f81d8e",
   "metadata": {},
   "outputs": [
    {
     "name": "stdout",
     "output_type": "stream",
     "text": [
      "[[ True  True False False]\n",
      " [ True  True False  True]\n",
      " [ True  True False  True]\n",
      " [False False False False]]\n",
      "[1.         1.         1.         1.         1.07844588 1.\n",
      " 1.         0.7440772 ]\n",
      "[[ 1.          1.         99.         99.        ]\n",
      " [ 1.          1.         99.          1.07844588]\n",
      " [ 1.          1.         99.          0.7440772 ]\n",
      " [ 0.          0.          0.          0.        ]]\n",
      "[[-0.09210729 -0.49028998 -0.48754133]\n",
      " [-0.01701785 -1.18352126  1.46997789]\n",
      " [-0.05014536  0.95741277 -1.99165718]]\n"
     ]
    }
   ],
   "source": [
    "print(rdmat>0) #accessing data with logical operation\n",
    "print(rdmat[rdmat>0])\n",
    "rdmat[rdmat<0]=99\n",
    "print(rdmat)\n",
    "rdmat1=np.random.randn(3,3)\n",
    "print(rdmat1)"
   ]
  },
  {
   "cell_type": "code",
   "execution_count": 24,
   "id": "13933b37",
   "metadata": {},
   "outputs": [
    {
     "name": "stdout",
     "output_type": "stream",
     "text": [
      "[[ 1.          1.         99.         99.        ]\n",
      " [ 1.          1.         99.          1.07844588]\n",
      " [ 1.          1.         99.          0.7440772 ]\n",
      " [ 0.          0.          0.          0.        ]]\n",
      "[[-0.09210729 -0.49028998 -0.48754133]\n",
      " [-0.01701785 -1.18352126  1.46997789]\n",
      " [-0.05014536  0.95741277 -1.99165718]]\n",
      "[ 0.          1.          2.          3.          4.          5.\n",
      "  6.          7.          8.          9.          1.62471136 -0.85422547\n",
      " -0.17138202 -0.90023843  2.01834086  0.76110828  0.31939906  1.17723964\n",
      "  1.52650655]\n"
     ]
    }
   ],
   "source": [
    "np.savez('matrics',rdmat=rdmat,rdmat1=rdmat1)\n",
    "ldzip=np.load('matrics.npz')\n",
    "print(ldzip['rdmat'])\n",
    "print(ldzip['rdmat1'])\n",
    "#as text file\n",
    "np.savetxt('html',rdvec)\n",
    "rdvectxt=np.loadtxt('html')\n",
    "print(rdvectxt)"
   ]
  },
  {
   "cell_type": "markdown",
   "id": "a27ea7fd",
   "metadata": {},
   "source": [
    "# pandas"
   ]
  },
  {
   "cell_type": "code",
   "execution_count": 25,
   "id": "359c0cda",
   "metadata": {},
   "outputs": [],
   "source": [
    "#creating series and dataframe\n",
    "import pandas as pd"
   ]
  },
  {
   "cell_type": "code",
   "execution_count": 26,
   "id": "57ea4026",
   "metadata": {},
   "outputs": [
    {
     "name": "stdout",
     "output_type": "stream",
     "text": [
      "0    1\n",
      "1    2\n",
      "2    3\n",
      "3    4\n",
      "4    5\n",
      "5    6\n",
      "dtype: int64\n",
      "0    1\n",
      "1    2\n",
      "2    3\n",
      "3    4\n",
      "4    5\n",
      "5    6\n",
      "dtype: int32\n"
     ]
    }
   ],
   "source": [
    "mylist=[1,2,3,4,5,6]\n",
    "myarray=np.array(mylist)\n",
    "myseries1=pd.Series(data=mylist)\n",
    "print(myseries1)\n",
    "myseries2=pd.Series(data=myarray)\n",
    "print(myseries2)"
   ]
  },
  {
   "cell_type": "code",
   "execution_count": 27,
   "id": "49311156",
   "metadata": {},
   "outputs": [
    {
     "name": "stdout",
     "output_type": "stream",
     "text": [
      "I      1\n",
      "II     2\n",
      "III    3\n",
      "IV     4\n",
      "V      5\n",
      "VI     6\n",
      "dtype: int64\n"
     ]
    }
   ],
   "source": [
    "mylabel=['I','II','III','IV','V','VI']\n",
    "myseries3=pd.Series(data=mylist,index=mylabel)\n",
    "print(myseries3)"
   ]
  },
  {
   "cell_type": "code",
   "execution_count": 28,
   "id": "f128afd6",
   "metadata": {},
   "outputs": [
    {
     "name": "stdout",
     "output_type": "stream",
     "text": [
      "I      1\n",
      "II     2\n",
      "III    3\n",
      "IV     4\n",
      "V      5\n",
      "VI     6\n",
      "dtype: int64\n"
     ]
    }
   ],
   "source": [
    "myseries4=pd.Series(mylist,mylabel)\n",
    "print(myseries4)"
   ]
  },
  {
   "cell_type": "code",
   "execution_count": 29,
   "id": "cce0d23b",
   "metadata": {},
   "outputs": [
    {
     "name": "stdout",
     "output_type": "stream",
     "text": [
      "2\n"
     ]
    }
   ],
   "source": [
    "print(myseries4['II'])"
   ]
  },
  {
   "cell_type": "code",
   "execution_count": 30,
   "id": "66630d5b",
   "metadata": {},
   "outputs": [
    {
     "name": "stdout",
     "output_type": "stream",
     "text": [
      "I      0\n",
      "II     9\n",
      "III    8\n",
      "IV     7\n",
      "V      6\n",
      "VI     5\n",
      "dtype: int64\n"
     ]
    }
   ],
   "source": [
    "myseries5=pd.Series([0,9,8,7,6,5],['I','II','III','IV','V','VI'])\n",
    "print(myseries5)"
   ]
  },
  {
   "cell_type": "code",
   "execution_count": 31,
   "id": "5e3e4dc5",
   "metadata": {},
   "outputs": [
    {
     "name": "stdout",
     "output_type": "stream",
     "text": [
      "I       1\n",
      "II     11\n",
      "III    11\n",
      "IV     11\n",
      "V      11\n",
      "VI     11\n",
      "dtype: int64\n"
     ]
    }
   ],
   "source": [
    "myseries6=pd.Series(myseries4+myseries5)\n",
    "print(myseries6)"
   ]
  },
  {
   "cell_type": "code",
   "execution_count": 32,
   "id": "d00bf5f0",
   "metadata": {},
   "outputs": [
    {
     "name": "stdout",
     "output_type": "stream",
     "text": [
      "     0  1   2\n",
      "I    1  0   1\n",
      "II   2  9  11\n",
      "III  3  8  11\n",
      "IV   4  7  11\n",
      "V    5  6  11\n",
      "VI   6  5  11\n"
     ]
    }
   ],
   "source": [
    "df1=pd.concat([myseries4,myseries5,myseries6],axis=1,sort=False)\n",
    "print(df1)"
   ]
  },
  {
   "cell_type": "code",
   "execution_count": 33,
   "id": "7b312745",
   "metadata": {},
   "outputs": [
    {
     "data": {
      "text/html": [
       "<div>\n",
       "<style scoped>\n",
       "    .dataframe tbody tr th:only-of-type {\n",
       "        vertical-align: middle;\n",
       "    }\n",
       "\n",
       "    .dataframe tbody tr th {\n",
       "        vertical-align: top;\n",
       "    }\n",
       "\n",
       "    .dataframe thead th {\n",
       "        text-align: right;\n",
       "    }\n",
       "</style>\n",
       "<table border=\"1\" class=\"dataframe\">\n",
       "  <thead>\n",
       "    <tr style=\"text-align: right;\">\n",
       "      <th></th>\n",
       "      <th>0</th>\n",
       "      <th>1</th>\n",
       "      <th>2</th>\n",
       "    </tr>\n",
       "  </thead>\n",
       "  <tbody>\n",
       "    <tr>\n",
       "      <th>I</th>\n",
       "      <td>1</td>\n",
       "      <td>0</td>\n",
       "      <td>1</td>\n",
       "    </tr>\n",
       "    <tr>\n",
       "      <th>II</th>\n",
       "      <td>2</td>\n",
       "      <td>9</td>\n",
       "      <td>11</td>\n",
       "    </tr>\n",
       "    <tr>\n",
       "      <th>III</th>\n",
       "      <td>3</td>\n",
       "      <td>8</td>\n",
       "      <td>11</td>\n",
       "    </tr>\n",
       "    <tr>\n",
       "      <th>IV</th>\n",
       "      <td>4</td>\n",
       "      <td>7</td>\n",
       "      <td>11</td>\n",
       "    </tr>\n",
       "    <tr>\n",
       "      <th>V</th>\n",
       "      <td>5</td>\n",
       "      <td>6</td>\n",
       "      <td>11</td>\n",
       "    </tr>\n",
       "    <tr>\n",
       "      <th>VI</th>\n",
       "      <td>6</td>\n",
       "      <td>5</td>\n",
       "      <td>11</td>\n",
       "    </tr>\n",
       "  </tbody>\n",
       "</table>\n",
       "</div>"
      ],
      "text/plain": [
       "     0  1   2\n",
       "I    1  0   1\n",
       "II   2  9  11\n",
       "III  3  8  11\n",
       "IV   4  7  11\n",
       "V    5  6  11\n",
       "VI   6  5  11"
      ]
     },
     "execution_count": 33,
     "metadata": {},
     "output_type": "execute_result"
    }
   ],
   "source": [
    "df1"
   ]
  },
  {
   "cell_type": "code",
   "execution_count": 34,
   "id": "6c283be2",
   "metadata": {},
   "outputs": [
    {
     "data": {
      "text/html": [
       "<div>\n",
       "<style scoped>\n",
       "    .dataframe tbody tr th:only-of-type {\n",
       "        vertical-align: middle;\n",
       "    }\n",
       "\n",
       "    .dataframe tbody tr th {\n",
       "        vertical-align: top;\n",
       "    }\n",
       "\n",
       "    .dataframe thead th {\n",
       "        text-align: right;\n",
       "    }\n",
       "</style>\n",
       "<table border=\"1\" class=\"dataframe\">\n",
       "  <thead>\n",
       "    <tr style=\"text-align: right;\">\n",
       "      <th></th>\n",
       "      <th>0</th>\n",
       "      <th>1</th>\n",
       "      <th>2</th>\n",
       "      <th>3</th>\n",
       "      <th>4</th>\n",
       "    </tr>\n",
       "  </thead>\n",
       "  <tbody>\n",
       "    <tr>\n",
       "      <th>0</th>\n",
       "      <td>0.732105</td>\n",
       "      <td>0.197951</td>\n",
       "      <td>0.376405</td>\n",
       "      <td>-0.085467</td>\n",
       "      <td>0.590102</td>\n",
       "    </tr>\n",
       "    <tr>\n",
       "      <th>1</th>\n",
       "      <td>-0.445645</td>\n",
       "      <td>-1.489458</td>\n",
       "      <td>-0.506344</td>\n",
       "      <td>0.678448</td>\n",
       "      <td>-0.621632</td>\n",
       "    </tr>\n",
       "    <tr>\n",
       "      <th>2</th>\n",
       "      <td>-0.432261</td>\n",
       "      <td>1.143022</td>\n",
       "      <td>0.149131</td>\n",
       "      <td>-0.441770</td>\n",
       "      <td>-1.561156</td>\n",
       "    </tr>\n",
       "    <tr>\n",
       "      <th>3</th>\n",
       "      <td>-2.579253</td>\n",
       "      <td>-0.826668</td>\n",
       "      <td>-1.440032</td>\n",
       "      <td>0.033560</td>\n",
       "      <td>-1.974145</td>\n",
       "    </tr>\n",
       "    <tr>\n",
       "      <th>4</th>\n",
       "      <td>0.428934</td>\n",
       "      <td>1.390530</td>\n",
       "      <td>-0.150522</td>\n",
       "      <td>0.407420</td>\n",
       "      <td>-0.213683</td>\n",
       "    </tr>\n",
       "  </tbody>\n",
       "</table>\n",
       "</div>"
      ],
      "text/plain": [
       "          0         1         2         3         4\n",
       "0  0.732105  0.197951  0.376405 -0.085467  0.590102\n",
       "1 -0.445645 -1.489458 -0.506344  0.678448 -0.621632\n",
       "2 -0.432261  1.143022  0.149131 -0.441770 -1.561156\n",
       "3 -2.579253 -0.826668 -1.440032  0.033560 -1.974145\n",
       "4  0.428934  1.390530 -0.150522  0.407420 -0.213683"
      ]
     },
     "execution_count": 34,
     "metadata": {},
     "output_type": "execute_result"
    }
   ],
   "source": [
    "#to create dataframe\n",
    "df2=pd.DataFrame(np.random.randn(5,5))\n",
    "df2"
   ]
  },
  {
   "cell_type": "code",
   "execution_count": 35,
   "id": "23fdd867",
   "metadata": {},
   "outputs": [
    {
     "data": {
      "text/html": [
       "<div>\n",
       "<style scoped>\n",
       "    .dataframe tbody tr th:only-of-type {\n",
       "        vertical-align: middle;\n",
       "    }\n",
       "\n",
       "    .dataframe tbody tr th {\n",
       "        vertical-align: top;\n",
       "    }\n",
       "\n",
       "    .dataframe thead th {\n",
       "        text-align: right;\n",
       "    }\n",
       "</style>\n",
       "<table border=\"1\" class=\"dataframe\">\n",
       "  <thead>\n",
       "    <tr style=\"text-align: right;\">\n",
       "      <th></th>\n",
       "      <th>ci</th>\n",
       "      <th>cii</th>\n",
       "      <th>ciii</th>\n",
       "      <th>civ</th>\n",
       "      <th>cv</th>\n",
       "    </tr>\n",
       "  </thead>\n",
       "  <tbody>\n",
       "    <tr>\n",
       "      <th>rI</th>\n",
       "      <td>1.037788</td>\n",
       "      <td>0.886516</td>\n",
       "      <td>-1.434192</td>\n",
       "      <td>-0.570428</td>\n",
       "      <td>-0.625045</td>\n",
       "    </tr>\n",
       "    <tr>\n",
       "      <th>rII</th>\n",
       "      <td>-0.121437</td>\n",
       "      <td>1.211036</td>\n",
       "      <td>2.126610</td>\n",
       "      <td>-0.252883</td>\n",
       "      <td>0.244003</td>\n",
       "    </tr>\n",
       "    <tr>\n",
       "      <th>rIII</th>\n",
       "      <td>-0.581972</td>\n",
       "      <td>0.389888</td>\n",
       "      <td>0.352059</td>\n",
       "      <td>1.138428</td>\n",
       "      <td>0.034441</td>\n",
       "    </tr>\n",
       "    <tr>\n",
       "      <th>rIV</th>\n",
       "      <td>0.228314</td>\n",
       "      <td>0.246544</td>\n",
       "      <td>0.921096</td>\n",
       "      <td>-0.546142</td>\n",
       "      <td>1.770634</td>\n",
       "    </tr>\n",
       "    <tr>\n",
       "      <th>rV</th>\n",
       "      <td>-0.488802</td>\n",
       "      <td>1.045271</td>\n",
       "      <td>1.942689</td>\n",
       "      <td>-0.804945</td>\n",
       "      <td>1.211556</td>\n",
       "    </tr>\n",
       "  </tbody>\n",
       "</table>\n",
       "</div>"
      ],
      "text/plain": [
       "            ci       cii      ciii       civ        cv\n",
       "rI    1.037788  0.886516 -1.434192 -0.570428 -0.625045\n",
       "rII  -0.121437  1.211036  2.126610 -0.252883  0.244003\n",
       "rIII -0.581972  0.389888  0.352059  1.138428  0.034441\n",
       "rIV   0.228314  0.246544  0.921096 -0.546142  1.770634\n",
       "rV   -0.488802  1.045271  1.942689 -0.804945  1.211556"
      ]
     },
     "execution_count": 35,
     "metadata": {},
     "output_type": "execute_result"
    }
   ],
   "source": [
    "df3=pd.DataFrame(np.random.randn(5,5),index=['rI','rII','rIII','rIV','rV'],columns=['ci','cii','ciii','civ','cv'])\n",
    "df3"
   ]
  },
  {
   "cell_type": "code",
   "execution_count": 36,
   "id": "9abb6a74",
   "metadata": {},
   "outputs": [
    {
     "data": {
      "text/html": [
       "<div>\n",
       "<style scoped>\n",
       "    .dataframe tbody tr th:only-of-type {\n",
       "        vertical-align: middle;\n",
       "    }\n",
       "\n",
       "    .dataframe tbody tr th {\n",
       "        vertical-align: top;\n",
       "    }\n",
       "\n",
       "    .dataframe thead th {\n",
       "        text-align: right;\n",
       "    }\n",
       "</style>\n",
       "<table border=\"1\" class=\"dataframe\">\n",
       "  <thead>\n",
       "    <tr style=\"text-align: right;\">\n",
       "      <th></th>\n",
       "      <th>ciii</th>\n",
       "      <th>ci</th>\n",
       "    </tr>\n",
       "  </thead>\n",
       "  <tbody>\n",
       "    <tr>\n",
       "      <th>rI</th>\n",
       "      <td>-1.434192</td>\n",
       "      <td>1.037788</td>\n",
       "    </tr>\n",
       "    <tr>\n",
       "      <th>rII</th>\n",
       "      <td>2.126610</td>\n",
       "      <td>-0.121437</td>\n",
       "    </tr>\n",
       "    <tr>\n",
       "      <th>rIII</th>\n",
       "      <td>0.352059</td>\n",
       "      <td>-0.581972</td>\n",
       "    </tr>\n",
       "    <tr>\n",
       "      <th>rIV</th>\n",
       "      <td>0.921096</td>\n",
       "      <td>0.228314</td>\n",
       "    </tr>\n",
       "    <tr>\n",
       "      <th>rV</th>\n",
       "      <td>1.942689</td>\n",
       "      <td>-0.488802</td>\n",
       "    </tr>\n",
       "  </tbody>\n",
       "</table>\n",
       "</div>"
      ],
      "text/plain": [
       "          ciii        ci\n",
       "rI   -1.434192  1.037788\n",
       "rII   2.126610 -0.121437\n",
       "rIII  0.352059 -0.581972\n",
       "rIV   0.921096  0.228314\n",
       "rV    1.942689 -0.488802"
      ]
     },
     "execution_count": 36,
     "metadata": {},
     "output_type": "execute_result"
    }
   ],
   "source": [
    "df3[['ciii','ci']]"
   ]
  },
  {
   "cell_type": "code",
   "execution_count": 37,
   "id": "a1ef74c6",
   "metadata": {},
   "outputs": [
    {
     "data": {
      "text/html": [
       "<div>\n",
       "<style scoped>\n",
       "    .dataframe tbody tr th:only-of-type {\n",
       "        vertical-align: middle;\n",
       "    }\n",
       "\n",
       "    .dataframe tbody tr th {\n",
       "        vertical-align: top;\n",
       "    }\n",
       "\n",
       "    .dataframe thead th {\n",
       "        text-align: right;\n",
       "    }\n",
       "</style>\n",
       "<table border=\"1\" class=\"dataframe\">\n",
       "  <thead>\n",
       "    <tr style=\"text-align: right;\">\n",
       "      <th></th>\n",
       "      <th>ci</th>\n",
       "      <th>cii</th>\n",
       "      <th>ciii</th>\n",
       "      <th>civ</th>\n",
       "      <th>cv</th>\n",
       "    </tr>\n",
       "  </thead>\n",
       "  <tbody>\n",
       "    <tr>\n",
       "      <th>rI</th>\n",
       "      <td>1.037788</td>\n",
       "      <td>0.886516</td>\n",
       "      <td>-1.434192</td>\n",
       "      <td>-0.570428</td>\n",
       "      <td>-0.625045</td>\n",
       "    </tr>\n",
       "    <tr>\n",
       "      <th>rII</th>\n",
       "      <td>-0.121437</td>\n",
       "      <td>1.211036</td>\n",
       "      <td>2.126610</td>\n",
       "      <td>-0.252883</td>\n",
       "      <td>0.244003</td>\n",
       "    </tr>\n",
       "  </tbody>\n",
       "</table>\n",
       "</div>"
      ],
      "text/plain": [
       "           ci       cii      ciii       civ        cv\n",
       "rI   1.037788  0.886516 -1.434192 -0.570428 -0.625045\n",
       "rII -0.121437  1.211036  2.126610 -0.252883  0.244003"
      ]
     },
     "execution_count": 37,
     "metadata": {},
     "output_type": "execute_result"
    }
   ],
   "source": [
    "df3.loc[['rI','rII']]"
   ]
  },
  {
   "cell_type": "code",
   "execution_count": 38,
   "id": "5009a319",
   "metadata": {},
   "outputs": [
    {
     "data": {
      "text/html": [
       "<div>\n",
       "<style scoped>\n",
       "    .dataframe tbody tr th:only-of-type {\n",
       "        vertical-align: middle;\n",
       "    }\n",
       "\n",
       "    .dataframe tbody tr th {\n",
       "        vertical-align: top;\n",
       "    }\n",
       "\n",
       "    .dataframe thead th {\n",
       "        text-align: right;\n",
       "    }\n",
       "</style>\n",
       "<table border=\"1\" class=\"dataframe\">\n",
       "  <thead>\n",
       "    <tr style=\"text-align: right;\">\n",
       "      <th></th>\n",
       "      <th>ci</th>\n",
       "      <th>cii</th>\n",
       "      <th>ciii</th>\n",
       "      <th>civ</th>\n",
       "      <th>cv</th>\n",
       "    </tr>\n",
       "  </thead>\n",
       "  <tbody>\n",
       "    <tr>\n",
       "      <th>rII</th>\n",
       "      <td>-0.121437</td>\n",
       "      <td>1.211036</td>\n",
       "      <td>2.126610</td>\n",
       "      <td>-0.252883</td>\n",
       "      <td>0.244003</td>\n",
       "    </tr>\n",
       "    <tr>\n",
       "      <th>rIII</th>\n",
       "      <td>-0.581972</td>\n",
       "      <td>0.389888</td>\n",
       "      <td>0.352059</td>\n",
       "      <td>1.138428</td>\n",
       "      <td>0.034441</td>\n",
       "    </tr>\n",
       "  </tbody>\n",
       "</table>\n",
       "</div>"
      ],
      "text/plain": [
       "            ci       cii      ciii       civ        cv\n",
       "rII  -0.121437  1.211036  2.126610 -0.252883  0.244003\n",
       "rIII -0.581972  0.389888  0.352059  1.138428  0.034441"
      ]
     },
     "execution_count": 38,
     "metadata": {},
     "output_type": "execute_result"
    }
   ],
   "source": [
    "df3.iloc[[1,2]]"
   ]
  },
  {
   "cell_type": "code",
   "execution_count": 39,
   "id": "8f95a13c",
   "metadata": {},
   "outputs": [
    {
     "name": "stdout",
     "output_type": "stream",
     "text": [
      "            ci       cii      ciii       civ        cv\n",
      "rI    1.037788  0.886516       NaN       NaN       NaN\n",
      "rII        NaN  1.211036  2.126610       NaN  0.244003\n",
      "rIII       NaN  0.389888  0.352059  1.138428  0.034441\n",
      "rIV   0.228314  0.246544  0.921096       NaN  1.770634\n",
      "rV         NaN  1.045271  1.942689       NaN  1.211556\n"
     ]
    },
    {
     "data": {
      "text/html": [
       "<div>\n",
       "<style scoped>\n",
       "    .dataframe tbody tr th:only-of-type {\n",
       "        vertical-align: middle;\n",
       "    }\n",
       "\n",
       "    .dataframe tbody tr th {\n",
       "        vertical-align: top;\n",
       "    }\n",
       "\n",
       "    .dataframe thead th {\n",
       "        text-align: right;\n",
       "    }\n",
       "</style>\n",
       "<table border=\"1\" class=\"dataframe\">\n",
       "  <thead>\n",
       "    <tr style=\"text-align: right;\">\n",
       "      <th></th>\n",
       "      <th>ci</th>\n",
       "      <th>cii</th>\n",
       "      <th>ciii</th>\n",
       "      <th>civ</th>\n",
       "      <th>cv</th>\n",
       "    </tr>\n",
       "  </thead>\n",
       "  <tbody>\n",
       "    <tr>\n",
       "      <th>rI</th>\n",
       "      <td>1.037788</td>\n",
       "      <td>0.886516</td>\n",
       "      <td>NaN</td>\n",
       "      <td>NaN</td>\n",
       "      <td>NaN</td>\n",
       "    </tr>\n",
       "    <tr>\n",
       "      <th>rII</th>\n",
       "      <td>NaN</td>\n",
       "      <td>1.211036</td>\n",
       "      <td>2.126610</td>\n",
       "      <td>NaN</td>\n",
       "      <td>0.244003</td>\n",
       "    </tr>\n",
       "    <tr>\n",
       "      <th>rIII</th>\n",
       "      <td>NaN</td>\n",
       "      <td>0.389888</td>\n",
       "      <td>0.352059</td>\n",
       "      <td>1.138428</td>\n",
       "      <td>0.034441</td>\n",
       "    </tr>\n",
       "    <tr>\n",
       "      <th>rIV</th>\n",
       "      <td>0.228314</td>\n",
       "      <td>0.246544</td>\n",
       "      <td>0.921096</td>\n",
       "      <td>NaN</td>\n",
       "      <td>1.770634</td>\n",
       "    </tr>\n",
       "    <tr>\n",
       "      <th>rV</th>\n",
       "      <td>NaN</td>\n",
       "      <td>1.045271</td>\n",
       "      <td>1.942689</td>\n",
       "      <td>NaN</td>\n",
       "      <td>1.211556</td>\n",
       "    </tr>\n",
       "  </tbody>\n",
       "</table>\n",
       "</div>"
      ],
      "text/plain": [
       "            ci       cii      ciii       civ        cv\n",
       "rI    1.037788  0.886516       NaN       NaN       NaN\n",
       "rII        NaN  1.211036  2.126610       NaN  0.244003\n",
       "rIII       NaN  0.389888  0.352059  1.138428  0.034441\n",
       "rIV   0.228314  0.246544  0.921096       NaN  1.770634\n",
       "rV         NaN  1.045271  1.942689       NaN  1.211556"
      ]
     },
     "execution_count": 39,
     "metadata": {},
     "output_type": "execute_result"
    }
   ],
   "source": [
    "df3>0\n",
    "print(df3[df3>0])\n",
    "df3[df3>0]"
   ]
  },
  {
   "cell_type": "code",
   "execution_count": 40,
   "id": "ee80a02b",
   "metadata": {},
   "outputs": [
    {
     "data": {
      "text/html": [
       "<div>\n",
       "<style scoped>\n",
       "    .dataframe tbody tr th:only-of-type {\n",
       "        vertical-align: middle;\n",
       "    }\n",
       "\n",
       "    .dataframe tbody tr th {\n",
       "        vertical-align: top;\n",
       "    }\n",
       "\n",
       "    .dataframe thead th {\n",
       "        text-align: right;\n",
       "    }\n",
       "</style>\n",
       "<table border=\"1\" class=\"dataframe\">\n",
       "  <thead>\n",
       "    <tr style=\"text-align: right;\">\n",
       "      <th></th>\n",
       "      <th>ci</th>\n",
       "      <th>cii</th>\n",
       "      <th>ciii</th>\n",
       "      <th>civ</th>\n",
       "      <th>cv</th>\n",
       "      <th>cvi</th>\n",
       "    </tr>\n",
       "  </thead>\n",
       "  <tbody>\n",
       "    <tr>\n",
       "      <th>rI</th>\n",
       "      <td>1.037788</td>\n",
       "      <td>0.886516</td>\n",
       "      <td>-1.434192</td>\n",
       "      <td>-0.570428</td>\n",
       "      <td>-0.625045</td>\n",
       "      <td>-0.818793</td>\n",
       "    </tr>\n",
       "    <tr>\n",
       "      <th>rII</th>\n",
       "      <td>-0.121437</td>\n",
       "      <td>1.211036</td>\n",
       "      <td>2.126610</td>\n",
       "      <td>-0.252883</td>\n",
       "      <td>0.244003</td>\n",
       "      <td>0.677755</td>\n",
       "    </tr>\n",
       "    <tr>\n",
       "      <th>rIII</th>\n",
       "      <td>-0.581972</td>\n",
       "      <td>0.389888</td>\n",
       "      <td>0.352059</td>\n",
       "      <td>1.138428</td>\n",
       "      <td>0.034441</td>\n",
       "      <td>-0.758726</td>\n",
       "    </tr>\n",
       "    <tr>\n",
       "      <th>rIV</th>\n",
       "      <td>0.228314</td>\n",
       "      <td>0.246544</td>\n",
       "      <td>0.921096</td>\n",
       "      <td>-0.546142</td>\n",
       "      <td>1.770634</td>\n",
       "      <td>-2.068215</td>\n",
       "    </tr>\n",
       "    <tr>\n",
       "      <th>rV</th>\n",
       "      <td>-0.488802</td>\n",
       "      <td>1.045271</td>\n",
       "      <td>1.942689</td>\n",
       "      <td>-0.804945</td>\n",
       "      <td>1.211556</td>\n",
       "      <td>0.898199</td>\n",
       "    </tr>\n",
       "  </tbody>\n",
       "</table>\n",
       "</div>"
      ],
      "text/plain": [
       "            ci       cii      ciii       civ        cv       cvi\n",
       "rI    1.037788  0.886516 -1.434192 -0.570428 -0.625045 -0.818793\n",
       "rII  -0.121437  1.211036  2.126610 -0.252883  0.244003  0.677755\n",
       "rIII -0.581972  0.389888  0.352059  1.138428  0.034441 -0.758726\n",
       "rIV   0.228314  0.246544  0.921096 -0.546142  1.770634 -2.068215\n",
       "rV   -0.488802  1.045271  1.942689 -0.804945  1.211556  0.898199"
      ]
     },
     "execution_count": 40,
     "metadata": {},
     "output_type": "execute_result"
    }
   ],
   "source": [
    "df3.drop('ci',axis=1)\n",
    "df3['cvi']=np.random.randn(5,1)#to add value in column\n",
    "df3"
   ]
  },
  {
   "cell_type": "code",
   "execution_count": 41,
   "id": "acfca5d5",
   "metadata": {},
   "outputs": [
    {
     "data": {
      "text/html": [
       "<div>\n",
       "<style scoped>\n",
       "    .dataframe tbody tr th:only-of-type {\n",
       "        vertical-align: middle;\n",
       "    }\n",
       "\n",
       "    .dataframe tbody tr th {\n",
       "        vertical-align: top;\n",
       "    }\n",
       "\n",
       "    .dataframe thead th {\n",
       "        text-align: right;\n",
       "    }\n",
       "</style>\n",
       "<table border=\"1\" class=\"dataframe\">\n",
       "  <thead>\n",
       "    <tr style=\"text-align: right;\">\n",
       "      <th></th>\n",
       "      <th>index</th>\n",
       "      <th>ci</th>\n",
       "      <th>cii</th>\n",
       "      <th>ciii</th>\n",
       "      <th>civ</th>\n",
       "      <th>cv</th>\n",
       "      <th>cvi</th>\n",
       "    </tr>\n",
       "  </thead>\n",
       "  <tbody>\n",
       "    <tr>\n",
       "      <th>0</th>\n",
       "      <td>rI</td>\n",
       "      <td>1.037788</td>\n",
       "      <td>0.886516</td>\n",
       "      <td>-1.434192</td>\n",
       "      <td>-0.570428</td>\n",
       "      <td>-0.625045</td>\n",
       "      <td>-0.818793</td>\n",
       "    </tr>\n",
       "    <tr>\n",
       "      <th>1</th>\n",
       "      <td>rII</td>\n",
       "      <td>-0.121437</td>\n",
       "      <td>1.211036</td>\n",
       "      <td>2.126610</td>\n",
       "      <td>-0.252883</td>\n",
       "      <td>0.244003</td>\n",
       "      <td>0.677755</td>\n",
       "    </tr>\n",
       "    <tr>\n",
       "      <th>2</th>\n",
       "      <td>rIII</td>\n",
       "      <td>-0.581972</td>\n",
       "      <td>0.389888</td>\n",
       "      <td>0.352059</td>\n",
       "      <td>1.138428</td>\n",
       "      <td>0.034441</td>\n",
       "      <td>-0.758726</td>\n",
       "    </tr>\n",
       "    <tr>\n",
       "      <th>3</th>\n",
       "      <td>rIV</td>\n",
       "      <td>0.228314</td>\n",
       "      <td>0.246544</td>\n",
       "      <td>0.921096</td>\n",
       "      <td>-0.546142</td>\n",
       "      <td>1.770634</td>\n",
       "      <td>-2.068215</td>\n",
       "    </tr>\n",
       "    <tr>\n",
       "      <th>4</th>\n",
       "      <td>rV</td>\n",
       "      <td>-0.488802</td>\n",
       "      <td>1.045271</td>\n",
       "      <td>1.942689</td>\n",
       "      <td>-0.804945</td>\n",
       "      <td>1.211556</td>\n",
       "      <td>0.898199</td>\n",
       "    </tr>\n",
       "  </tbody>\n",
       "</table>\n",
       "</div>"
      ],
      "text/plain": [
       "  index        ci       cii      ciii       civ        cv       cvi\n",
       "0    rI  1.037788  0.886516 -1.434192 -0.570428 -0.625045 -0.818793\n",
       "1   rII -0.121437  1.211036  2.126610 -0.252883  0.244003  0.677755\n",
       "2  rIII -0.581972  0.389888  0.352059  1.138428  0.034441 -0.758726\n",
       "3   rIV  0.228314  0.246544  0.921096 -0.546142  1.770634 -2.068215\n",
       "4    rV -0.488802  1.045271  1.942689 -0.804945  1.211556  0.898199"
      ]
     },
     "execution_count": 41,
     "metadata": {},
     "output_type": "execute_result"
    }
   ],
   "source": [
    "df3.reset_index()"
   ]
  },
  {
   "cell_type": "code",
   "execution_count": 42,
   "id": "c7d9d746",
   "metadata": {},
   "outputs": [
    {
     "data": {
      "text/html": [
       "<div>\n",
       "<style scoped>\n",
       "    .dataframe tbody tr th:only-of-type {\n",
       "        vertical-align: middle;\n",
       "    }\n",
       "\n",
       "    .dataframe tbody tr th {\n",
       "        vertical-align: top;\n",
       "    }\n",
       "\n",
       "    .dataframe thead th {\n",
       "        text-align: right;\n",
       "    }\n",
       "</style>\n",
       "<table border=\"1\" class=\"dataframe\">\n",
       "  <thead>\n",
       "    <tr style=\"text-align: right;\">\n",
       "      <th></th>\n",
       "      <th>ci</th>\n",
       "      <th>cii</th>\n",
       "      <th>ciii</th>\n",
       "      <th>civ</th>\n",
       "      <th>cv</th>\n",
       "      <th>cvi</th>\n",
       "    </tr>\n",
       "    <tr>\n",
       "      <th>new_index</th>\n",
       "      <th></th>\n",
       "      <th></th>\n",
       "      <th></th>\n",
       "      <th></th>\n",
       "      <th></th>\n",
       "      <th></th>\n",
       "    </tr>\n",
       "  </thead>\n",
       "  <tbody>\n",
       "    <tr>\n",
       "      <th>0</th>\n",
       "      <td>1.037788</td>\n",
       "      <td>0.886516</td>\n",
       "      <td>-1.434192</td>\n",
       "      <td>-0.570428</td>\n",
       "      <td>-0.625045</td>\n",
       "      <td>-0.818793</td>\n",
       "    </tr>\n",
       "    <tr>\n",
       "      <th>0</th>\n",
       "      <td>-0.121437</td>\n",
       "      <td>1.211036</td>\n",
       "      <td>2.126610</td>\n",
       "      <td>-0.252883</td>\n",
       "      <td>0.244003</td>\n",
       "      <td>0.677755</td>\n",
       "    </tr>\n",
       "    <tr>\n",
       "      <th>0</th>\n",
       "      <td>-0.581972</td>\n",
       "      <td>0.389888</td>\n",
       "      <td>0.352059</td>\n",
       "      <td>1.138428</td>\n",
       "      <td>0.034441</td>\n",
       "      <td>-0.758726</td>\n",
       "    </tr>\n",
       "    <tr>\n",
       "      <th>0</th>\n",
       "      <td>0.228314</td>\n",
       "      <td>0.246544</td>\n",
       "      <td>0.921096</td>\n",
       "      <td>-0.546142</td>\n",
       "      <td>1.770634</td>\n",
       "      <td>-2.068215</td>\n",
       "    </tr>\n",
       "    <tr>\n",
       "      <th>0</th>\n",
       "      <td>-0.488802</td>\n",
       "      <td>1.045271</td>\n",
       "      <td>1.942689</td>\n",
       "      <td>-0.804945</td>\n",
       "      <td>1.211556</td>\n",
       "      <td>0.898199</td>\n",
       "    </tr>\n",
       "  </tbody>\n",
       "</table>\n",
       "</div>"
      ],
      "text/plain": [
       "                 ci       cii      ciii       civ        cv       cvi\n",
       "new_index                                                            \n",
       "0          1.037788  0.886516 -1.434192 -0.570428 -0.625045 -0.818793\n",
       "0         -0.121437  1.211036  2.126610 -0.252883  0.244003  0.677755\n",
       "0         -0.581972  0.389888  0.352059  1.138428  0.034441 -0.758726\n",
       "0          0.228314  0.246544  0.921096 -0.546142  1.770634 -2.068215\n",
       "0         -0.488802  1.045271  1.942689 -0.804945  1.211556  0.898199"
      ]
     },
     "execution_count": 42,
     "metadata": {},
     "output_type": "execute_result"
    }
   ],
   "source": [
    "df3['new_index']=['0','0','0','0','0']\n",
    "df3.set_index('new_index',inplace=True)\n",
    "df3"
   ]
  },
  {
   "cell_type": "code",
   "execution_count": 43,
   "id": "6f549e97",
   "metadata": {},
   "outputs": [
    {
     "data": {
      "text/html": [
       "<div>\n",
       "<style scoped>\n",
       "    .dataframe tbody tr th:only-of-type {\n",
       "        vertical-align: middle;\n",
       "    }\n",
       "\n",
       "    .dataframe tbody tr th {\n",
       "        vertical-align: top;\n",
       "    }\n",
       "\n",
       "    .dataframe thead th {\n",
       "        text-align: right;\n",
       "    }\n",
       "</style>\n",
       "<table border=\"1\" class=\"dataframe\">\n",
       "  <thead>\n",
       "    <tr style=\"text-align: right;\">\n",
       "      <th></th>\n",
       "      <th>ci</th>\n",
       "      <th>cii</th>\n",
       "      <th>ciii</th>\n",
       "      <th>civ</th>\n",
       "      <th>cv</th>\n",
       "    </tr>\n",
       "    <tr>\n",
       "      <th>new_index</th>\n",
       "      <th></th>\n",
       "      <th></th>\n",
       "      <th></th>\n",
       "      <th></th>\n",
       "      <th></th>\n",
       "    </tr>\n",
       "  </thead>\n",
       "  <tbody>\n",
       "    <tr>\n",
       "      <th>0</th>\n",
       "      <td>1.037788</td>\n",
       "      <td>0.886516</td>\n",
       "      <td>-1.434192</td>\n",
       "      <td>-0.570428</td>\n",
       "      <td>-0.625045</td>\n",
       "    </tr>\n",
       "    <tr>\n",
       "      <th>0</th>\n",
       "      <td>-0.121437</td>\n",
       "      <td>1.211036</td>\n",
       "      <td>2.126610</td>\n",
       "      <td>-0.252883</td>\n",
       "      <td>0.244003</td>\n",
       "    </tr>\n",
       "    <tr>\n",
       "      <th>0</th>\n",
       "      <td>-0.581972</td>\n",
       "      <td>0.389888</td>\n",
       "      <td>0.352059</td>\n",
       "      <td>1.138428</td>\n",
       "      <td>0.034441</td>\n",
       "    </tr>\n",
       "    <tr>\n",
       "      <th>0</th>\n",
       "      <td>0.228314</td>\n",
       "      <td>0.246544</td>\n",
       "      <td>0.921096</td>\n",
       "      <td>-0.546142</td>\n",
       "      <td>1.770634</td>\n",
       "    </tr>\n",
       "    <tr>\n",
       "      <th>0</th>\n",
       "      <td>-0.488802</td>\n",
       "      <td>1.045271</td>\n",
       "      <td>1.942689</td>\n",
       "      <td>-0.804945</td>\n",
       "      <td>1.211556</td>\n",
       "    </tr>\n",
       "  </tbody>\n",
       "</table>\n",
       "</div>"
      ],
      "text/plain": [
       "                 ci       cii      ciii       civ        cv\n",
       "new_index                                                  \n",
       "0          1.037788  0.886516 -1.434192 -0.570428 -0.625045\n",
       "0         -0.121437  1.211036  2.126610 -0.252883  0.244003\n",
       "0         -0.581972  0.389888  0.352059  1.138428  0.034441\n",
       "0          0.228314  0.246544  0.921096 -0.546142  1.770634\n",
       "0         -0.488802  1.045271  1.942689 -0.804945  1.211556"
      ]
     },
     "execution_count": 43,
     "metadata": {},
     "output_type": "execute_result"
    }
   ],
   "source": [
    "df3=df3.drop('cvi',axis=1)\n",
    "df3"
   ]
  },
  {
   "cell_type": "markdown",
   "id": "4658a9f3",
   "metadata": {},
   "source": [
    "# combining \n",
    "##1)concat\n",
    "\n",
    "##2)join\n",
    "\n",
    "##3)merge\n"
   ]
  },
  {
   "cell_type": "code",
   "execution_count": 44,
   "id": "b5d61eb0",
   "metadata": {},
   "outputs": [
    {
     "name": "stdout",
     "output_type": "stream",
     "text": [
      "  category    brand  color\n",
      "0   mobile   iphone  black\n",
      "1  laptops     asus  white\n",
      "2  tablets  samsung    red\n",
      "\n",
      "  category    brand  color\n",
      "0   mobile   iphone   blue\n",
      "1  laptops    redmi  white\n",
      "2  tablets  samsung  white\n"
     ]
    }
   ],
   "source": [
    "df4=pd.DataFrame({\"category\":[\"mobile\",\"laptops\",\"tablets\"],\n",
    "                 \"brand\":[\"iphone\",\"asus\",\"samsung\"],\n",
    "                 \"color\":[\"black\",\"white\",\"red\"]})\n",
    "df4\n",
    "df5=pd.DataFrame({\"category\":[\"mobile\",\"laptops\",\"tablets\"],\n",
    "                 \"brand\":[\"iphone\",\"redmi\",\"samsung\"],\n",
    "                 \"color\":[\"blue\",\"white\",\"white\"]})\n",
    "df5              \n",
    "print(df4)\n",
    "print('')\n",
    "print(df5)"
   ]
  },
  {
   "cell_type": "code",
   "execution_count": 45,
   "id": "52209b0b",
   "metadata": {},
   "outputs": [
    {
     "data": {
      "text/html": [
       "<div>\n",
       "<style scoped>\n",
       "    .dataframe tbody tr th:only-of-type {\n",
       "        vertical-align: middle;\n",
       "    }\n",
       "\n",
       "    .dataframe tbody tr th {\n",
       "        vertical-align: top;\n",
       "    }\n",
       "\n",
       "    .dataframe thead th {\n",
       "        text-align: right;\n",
       "    }\n",
       "</style>\n",
       "<table border=\"1\" class=\"dataframe\">\n",
       "  <thead>\n",
       "    <tr style=\"text-align: right;\">\n",
       "      <th></th>\n",
       "      <th>category</th>\n",
       "      <th>brand</th>\n",
       "      <th>color</th>\n",
       "    </tr>\n",
       "  </thead>\n",
       "  <tbody>\n",
       "    <tr>\n",
       "      <th>0</th>\n",
       "      <td>mobile</td>\n",
       "      <td>iphone</td>\n",
       "      <td>black</td>\n",
       "    </tr>\n",
       "    <tr>\n",
       "      <th>1</th>\n",
       "      <td>laptops</td>\n",
       "      <td>asus</td>\n",
       "      <td>white</td>\n",
       "    </tr>\n",
       "    <tr>\n",
       "      <th>2</th>\n",
       "      <td>tablets</td>\n",
       "      <td>samsung</td>\n",
       "      <td>red</td>\n",
       "    </tr>\n",
       "    <tr>\n",
       "      <th>0</th>\n",
       "      <td>mobile</td>\n",
       "      <td>iphone</td>\n",
       "      <td>blue</td>\n",
       "    </tr>\n",
       "    <tr>\n",
       "      <th>1</th>\n",
       "      <td>laptops</td>\n",
       "      <td>redmi</td>\n",
       "      <td>white</td>\n",
       "    </tr>\n",
       "    <tr>\n",
       "      <th>2</th>\n",
       "      <td>tablets</td>\n",
       "      <td>samsung</td>\n",
       "      <td>white</td>\n",
       "    </tr>\n",
       "  </tbody>\n",
       "</table>\n",
       "</div>"
      ],
      "text/plain": [
       "  category    brand  color\n",
       "0   mobile   iphone  black\n",
       "1  laptops     asus  white\n",
       "2  tablets  samsung    red\n",
       "0   mobile   iphone   blue\n",
       "1  laptops    redmi  white\n",
       "2  tablets  samsung  white"
      ]
     },
     "execution_count": 45,
     "metadata": {},
     "output_type": "execute_result"
    }
   ],
   "source": [
    "#concat\n",
    "pd.concat([df4,df5],axis=0,sort=False)"
   ]
  },
  {
   "cell_type": "code",
   "execution_count": 46,
   "id": "7e8810d9",
   "metadata": {},
   "outputs": [
    {
     "data": {
      "text/html": [
       "<div>\n",
       "<style scoped>\n",
       "    .dataframe tbody tr th:only-of-type {\n",
       "        vertical-align: middle;\n",
       "    }\n",
       "\n",
       "    .dataframe tbody tr th {\n",
       "        vertical-align: top;\n",
       "    }\n",
       "\n",
       "    .dataframe thead th {\n",
       "        text-align: right;\n",
       "    }\n",
       "</style>\n",
       "<table border=\"1\" class=\"dataframe\">\n",
       "  <thead>\n",
       "    <tr style=\"text-align: right;\">\n",
       "      <th></th>\n",
       "      <th>brand</th>\n",
       "      <th>category</th>\n",
       "      <th>color</th>\n",
       "    </tr>\n",
       "  </thead>\n",
       "  <tbody>\n",
       "    <tr>\n",
       "      <th>0</th>\n",
       "      <td>iphone</td>\n",
       "      <td>mobile</td>\n",
       "      <td>black</td>\n",
       "    </tr>\n",
       "    <tr>\n",
       "      <th>1</th>\n",
       "      <td>asus</td>\n",
       "      <td>laptops</td>\n",
       "      <td>white</td>\n",
       "    </tr>\n",
       "    <tr>\n",
       "      <th>2</th>\n",
       "      <td>samsung</td>\n",
       "      <td>tablets</td>\n",
       "      <td>red</td>\n",
       "    </tr>\n",
       "    <tr>\n",
       "      <th>0</th>\n",
       "      <td>iphone</td>\n",
       "      <td>mobile</td>\n",
       "      <td>blue</td>\n",
       "    </tr>\n",
       "    <tr>\n",
       "      <th>1</th>\n",
       "      <td>redmi</td>\n",
       "      <td>laptops</td>\n",
       "      <td>white</td>\n",
       "    </tr>\n",
       "    <tr>\n",
       "      <th>2</th>\n",
       "      <td>samsung</td>\n",
       "      <td>tablets</td>\n",
       "      <td>white</td>\n",
       "    </tr>\n",
       "  </tbody>\n",
       "</table>\n",
       "</div>"
      ],
      "text/plain": [
       "     brand category  color\n",
       "0   iphone   mobile  black\n",
       "1     asus  laptops  white\n",
       "2  samsung  tablets    red\n",
       "0   iphone   mobile   blue\n",
       "1    redmi  laptops  white\n",
       "2  samsung  tablets  white"
      ]
     },
     "execution_count": 46,
     "metadata": {},
     "output_type": "execute_result"
    }
   ],
   "source": [
    "pd.concat([df4,df5],axis=0,sort=True)"
   ]
  },
  {
   "cell_type": "code",
   "execution_count": 47,
   "id": "c51dedf8",
   "metadata": {},
   "outputs": [
    {
     "data": {
      "text/html": [
       "<div>\n",
       "<style scoped>\n",
       "    .dataframe tbody tr th:only-of-type {\n",
       "        vertical-align: middle;\n",
       "    }\n",
       "\n",
       "    .dataframe tbody tr th {\n",
       "        vertical-align: top;\n",
       "    }\n",
       "\n",
       "    .dataframe thead th {\n",
       "        text-align: right;\n",
       "    }\n",
       "</style>\n",
       "<table border=\"1\" class=\"dataframe\">\n",
       "  <thead>\n",
       "    <tr style=\"text-align: right;\">\n",
       "      <th></th>\n",
       "      <th>category</th>\n",
       "      <th>brand</th>\n",
       "      <th>color</th>\n",
       "      <th>category</th>\n",
       "      <th>brand</th>\n",
       "      <th>color</th>\n",
       "    </tr>\n",
       "  </thead>\n",
       "  <tbody>\n",
       "    <tr>\n",
       "      <th>0</th>\n",
       "      <td>mobile</td>\n",
       "      <td>iphone</td>\n",
       "      <td>black</td>\n",
       "      <td>mobile</td>\n",
       "      <td>iphone</td>\n",
       "      <td>blue</td>\n",
       "    </tr>\n",
       "    <tr>\n",
       "      <th>1</th>\n",
       "      <td>laptops</td>\n",
       "      <td>asus</td>\n",
       "      <td>white</td>\n",
       "      <td>laptops</td>\n",
       "      <td>redmi</td>\n",
       "      <td>white</td>\n",
       "    </tr>\n",
       "    <tr>\n",
       "      <th>2</th>\n",
       "      <td>tablets</td>\n",
       "      <td>samsung</td>\n",
       "      <td>red</td>\n",
       "      <td>tablets</td>\n",
       "      <td>samsung</td>\n",
       "      <td>white</td>\n",
       "    </tr>\n",
       "  </tbody>\n",
       "</table>\n",
       "</div>"
      ],
      "text/plain": [
       "  category    brand  color category    brand  color\n",
       "0   mobile   iphone  black   mobile   iphone   blue\n",
       "1  laptops     asus  white  laptops    redmi  white\n",
       "2  tablets  samsung    red  tablets  samsung  white"
      ]
     },
     "execution_count": 47,
     "metadata": {},
     "output_type": "execute_result"
    }
   ],
   "source": [
    "pd.concat([df4,df5],axis=1,sort=False)"
   ]
  },
  {
   "cell_type": "code",
   "execution_count": 48,
   "id": "0743dfdc",
   "metadata": {},
   "outputs": [
    {
     "data": {
      "text/html": [
       "<div>\n",
       "<style scoped>\n",
       "    .dataframe tbody tr th:only-of-type {\n",
       "        vertical-align: middle;\n",
       "    }\n",
       "\n",
       "    .dataframe tbody tr th {\n",
       "        vertical-align: top;\n",
       "    }\n",
       "\n",
       "    .dataframe thead th {\n",
       "        text-align: right;\n",
       "    }\n",
       "</style>\n",
       "<table border=\"1\" class=\"dataframe\">\n",
       "  <thead>\n",
       "    <tr style=\"text-align: right;\">\n",
       "      <th></th>\n",
       "      <th>category</th>\n",
       "      <th>brand</th>\n",
       "      <th>color</th>\n",
       "      <th>category</th>\n",
       "      <th>brand</th>\n",
       "      <th>color</th>\n",
       "    </tr>\n",
       "  </thead>\n",
       "  <tbody>\n",
       "    <tr>\n",
       "      <th>0</th>\n",
       "      <td>mobile</td>\n",
       "      <td>iphone</td>\n",
       "      <td>black</td>\n",
       "      <td>mobile</td>\n",
       "      <td>iphone</td>\n",
       "      <td>blue</td>\n",
       "    </tr>\n",
       "    <tr>\n",
       "      <th>1</th>\n",
       "      <td>laptops</td>\n",
       "      <td>asus</td>\n",
       "      <td>white</td>\n",
       "      <td>laptops</td>\n",
       "      <td>redmi</td>\n",
       "      <td>white</td>\n",
       "    </tr>\n",
       "    <tr>\n",
       "      <th>2</th>\n",
       "      <td>tablets</td>\n",
       "      <td>samsung</td>\n",
       "      <td>red</td>\n",
       "      <td>tablets</td>\n",
       "      <td>samsung</td>\n",
       "      <td>white</td>\n",
       "    </tr>\n",
       "  </tbody>\n",
       "</table>\n",
       "</div>"
      ],
      "text/plain": [
       "  category    brand  color category    brand  color\n",
       "0   mobile   iphone  black   mobile   iphone   blue\n",
       "1  laptops     asus  white  laptops    redmi  white\n",
       "2  tablets  samsung    red  tablets  samsung  white"
      ]
     },
     "execution_count": 48,
     "metadata": {},
     "output_type": "execute_result"
    }
   ],
   "source": [
    "pd.concat([df4,df5],axis=1,sort=True)"
   ]
  },
  {
   "cell_type": "code",
   "execution_count": 49,
   "id": "b0971d63",
   "metadata": {},
   "outputs": [
    {
     "data": {
      "text/html": [
       "<div>\n",
       "<style scoped>\n",
       "    .dataframe tbody tr th:only-of-type {\n",
       "        vertical-align: middle;\n",
       "    }\n",
       "\n",
       "    .dataframe tbody tr th {\n",
       "        vertical-align: top;\n",
       "    }\n",
       "\n",
       "    .dataframe thead th {\n",
       "        text-align: right;\n",
       "    }\n",
       "</style>\n",
       "<table border=\"1\" class=\"dataframe\">\n",
       "  <thead>\n",
       "    <tr style=\"text-align: right;\">\n",
       "      <th></th>\n",
       "      <th>category_x</th>\n",
       "      <th>brand_x</th>\n",
       "      <th>color</th>\n",
       "      <th>category_y</th>\n",
       "      <th>brand_y</th>\n",
       "    </tr>\n",
       "  </thead>\n",
       "  <tbody>\n",
       "    <tr>\n",
       "      <th>0</th>\n",
       "      <td>mobile</td>\n",
       "      <td>iphone</td>\n",
       "      <td>black</td>\n",
       "      <td>NaN</td>\n",
       "      <td>NaN</td>\n",
       "    </tr>\n",
       "    <tr>\n",
       "      <th>1</th>\n",
       "      <td>NaN</td>\n",
       "      <td>NaN</td>\n",
       "      <td>blue</td>\n",
       "      <td>mobile</td>\n",
       "      <td>iphone</td>\n",
       "    </tr>\n",
       "    <tr>\n",
       "      <th>2</th>\n",
       "      <td>tablets</td>\n",
       "      <td>samsung</td>\n",
       "      <td>red</td>\n",
       "      <td>NaN</td>\n",
       "      <td>NaN</td>\n",
       "    </tr>\n",
       "    <tr>\n",
       "      <th>3</th>\n",
       "      <td>laptops</td>\n",
       "      <td>asus</td>\n",
       "      <td>white</td>\n",
       "      <td>laptops</td>\n",
       "      <td>redmi</td>\n",
       "    </tr>\n",
       "    <tr>\n",
       "      <th>4</th>\n",
       "      <td>laptops</td>\n",
       "      <td>asus</td>\n",
       "      <td>white</td>\n",
       "      <td>tablets</td>\n",
       "      <td>samsung</td>\n",
       "    </tr>\n",
       "  </tbody>\n",
       "</table>\n",
       "</div>"
      ],
      "text/plain": [
       "  category_x  brand_x  color category_y  brand_y\n",
       "0     mobile   iphone  black        NaN      NaN\n",
       "1        NaN      NaN   blue     mobile   iphone\n",
       "2    tablets  samsung    red        NaN      NaN\n",
       "3    laptops     asus  white    laptops    redmi\n",
       "4    laptops     asus  white    tablets  samsung"
      ]
     },
     "execution_count": 49,
     "metadata": {},
     "output_type": "execute_result"
    }
   ],
   "source": [
    "#merge\n",
    "pd.merge(df4,df5,how='outer',on='color',sort=True)"
   ]
  },
  {
   "cell_type": "code",
   "execution_count": 50,
   "id": "5a3f4773",
   "metadata": {},
   "outputs": [
    {
     "data": {
      "text/html": [
       "<div>\n",
       "<style scoped>\n",
       "    .dataframe tbody tr th:only-of-type {\n",
       "        vertical-align: middle;\n",
       "    }\n",
       "\n",
       "    .dataframe tbody tr th {\n",
       "        vertical-align: top;\n",
       "    }\n",
       "\n",
       "    .dataframe thead th {\n",
       "        text-align: right;\n",
       "    }\n",
       "</style>\n",
       "<table border=\"1\" class=\"dataframe\">\n",
       "  <thead>\n",
       "    <tr style=\"text-align: right;\">\n",
       "      <th></th>\n",
       "      <th>category_x</th>\n",
       "      <th>brand_x</th>\n",
       "      <th>color</th>\n",
       "      <th>category_y</th>\n",
       "      <th>brand_y</th>\n",
       "    </tr>\n",
       "  </thead>\n",
       "  <tbody>\n",
       "    <tr>\n",
       "      <th>0</th>\n",
       "      <td>mobile</td>\n",
       "      <td>iphone</td>\n",
       "      <td>black</td>\n",
       "      <td>NaN</td>\n",
       "      <td>NaN</td>\n",
       "    </tr>\n",
       "    <tr>\n",
       "      <th>1</th>\n",
       "      <td>laptops</td>\n",
       "      <td>asus</td>\n",
       "      <td>white</td>\n",
       "      <td>laptops</td>\n",
       "      <td>redmi</td>\n",
       "    </tr>\n",
       "    <tr>\n",
       "      <th>2</th>\n",
       "      <td>laptops</td>\n",
       "      <td>asus</td>\n",
       "      <td>white</td>\n",
       "      <td>tablets</td>\n",
       "      <td>samsung</td>\n",
       "    </tr>\n",
       "    <tr>\n",
       "      <th>3</th>\n",
       "      <td>tablets</td>\n",
       "      <td>samsung</td>\n",
       "      <td>red</td>\n",
       "      <td>NaN</td>\n",
       "      <td>NaN</td>\n",
       "    </tr>\n",
       "    <tr>\n",
       "      <th>4</th>\n",
       "      <td>NaN</td>\n",
       "      <td>NaN</td>\n",
       "      <td>blue</td>\n",
       "      <td>mobile</td>\n",
       "      <td>iphone</td>\n",
       "    </tr>\n",
       "  </tbody>\n",
       "</table>\n",
       "</div>"
      ],
      "text/plain": [
       "  category_x  brand_x  color category_y  brand_y\n",
       "0     mobile   iphone  black        NaN      NaN\n",
       "1    laptops     asus  white    laptops    redmi\n",
       "2    laptops     asus  white    tablets  samsung\n",
       "3    tablets  samsung    red        NaN      NaN\n",
       "4        NaN      NaN   blue     mobile   iphone"
      ]
     },
     "execution_count": 50,
     "metadata": {},
     "output_type": "execute_result"
    }
   ],
   "source": [
    "pd.merge(df4,df5,how='outer',on='color',sort=False)"
   ]
  },
  {
   "cell_type": "code",
   "execution_count": 51,
   "id": "d7f8a552",
   "metadata": {},
   "outputs": [
    {
     "data": {
      "text/html": [
       "<div>\n",
       "<style scoped>\n",
       "    .dataframe tbody tr th:only-of-type {\n",
       "        vertical-align: middle;\n",
       "    }\n",
       "\n",
       "    .dataframe tbody tr th {\n",
       "        vertical-align: top;\n",
       "    }\n",
       "\n",
       "    .dataframe thead th {\n",
       "        text-align: right;\n",
       "    }\n",
       "</style>\n",
       "<table border=\"1\" class=\"dataframe\">\n",
       "  <thead>\n",
       "    <tr style=\"text-align: right;\">\n",
       "      <th></th>\n",
       "      <th>category_x</th>\n",
       "      <th>brand_x</th>\n",
       "      <th>color</th>\n",
       "      <th>category_y</th>\n",
       "      <th>brand_y</th>\n",
       "    </tr>\n",
       "  </thead>\n",
       "  <tbody>\n",
       "    <tr>\n",
       "      <th>0</th>\n",
       "      <td>laptops</td>\n",
       "      <td>asus</td>\n",
       "      <td>white</td>\n",
       "      <td>laptops</td>\n",
       "      <td>redmi</td>\n",
       "    </tr>\n",
       "    <tr>\n",
       "      <th>1</th>\n",
       "      <td>laptops</td>\n",
       "      <td>asus</td>\n",
       "      <td>white</td>\n",
       "      <td>tablets</td>\n",
       "      <td>samsung</td>\n",
       "    </tr>\n",
       "  </tbody>\n",
       "</table>\n",
       "</div>"
      ],
      "text/plain": [
       "  category_x brand_x  color category_y  brand_y\n",
       "0    laptops    asus  white    laptops    redmi\n",
       "1    laptops    asus  white    tablets  samsung"
      ]
     },
     "execution_count": 51,
     "metadata": {},
     "output_type": "execute_result"
    }
   ],
   "source": [
    "pd.merge(df4,df5,how='inner',on='color')"
   ]
  },
  {
   "cell_type": "code",
   "execution_count": 52,
   "id": "e55b7714",
   "metadata": {},
   "outputs": [
    {
     "data": {
      "text/html": [
       "<div>\n",
       "<style scoped>\n",
       "    .dataframe tbody tr th:only-of-type {\n",
       "        vertical-align: middle;\n",
       "    }\n",
       "\n",
       "    .dataframe tbody tr th {\n",
       "        vertical-align: top;\n",
       "    }\n",
       "\n",
       "    .dataframe thead th {\n",
       "        text-align: right;\n",
       "    }\n",
       "</style>\n",
       "<table border=\"1\" class=\"dataframe\">\n",
       "  <thead>\n",
       "    <tr style=\"text-align: right;\">\n",
       "      <th></th>\n",
       "      <th>category_x</th>\n",
       "      <th>brand_x</th>\n",
       "      <th>color</th>\n",
       "      <th>category_y</th>\n",
       "      <th>brand_y</th>\n",
       "    </tr>\n",
       "  </thead>\n",
       "  <tbody>\n",
       "    <tr>\n",
       "      <th>0</th>\n",
       "      <td>NaN</td>\n",
       "      <td>NaN</td>\n",
       "      <td>blue</td>\n",
       "      <td>mobile</td>\n",
       "      <td>iphone</td>\n",
       "    </tr>\n",
       "    <tr>\n",
       "      <th>1</th>\n",
       "      <td>laptops</td>\n",
       "      <td>asus</td>\n",
       "      <td>white</td>\n",
       "      <td>laptops</td>\n",
       "      <td>redmi</td>\n",
       "    </tr>\n",
       "    <tr>\n",
       "      <th>2</th>\n",
       "      <td>laptops</td>\n",
       "      <td>asus</td>\n",
       "      <td>white</td>\n",
       "      <td>tablets</td>\n",
       "      <td>samsung</td>\n",
       "    </tr>\n",
       "  </tbody>\n",
       "</table>\n",
       "</div>"
      ],
      "text/plain": [
       "  category_x brand_x  color category_y  brand_y\n",
       "0        NaN     NaN   blue     mobile   iphone\n",
       "1    laptops    asus  white    laptops    redmi\n",
       "2    laptops    asus  white    tablets  samsung"
      ]
     },
     "execution_count": 52,
     "metadata": {},
     "output_type": "execute_result"
    }
   ],
   "source": [
    "pd.merge(df4,df5,how='right',on='color')"
   ]
  },
  {
   "cell_type": "code",
   "execution_count": 53,
   "id": "e4695a82",
   "metadata": {},
   "outputs": [
    {
     "data": {
      "text/html": [
       "<div>\n",
       "<style scoped>\n",
       "    .dataframe tbody tr th:only-of-type {\n",
       "        vertical-align: middle;\n",
       "    }\n",
       "\n",
       "    .dataframe tbody tr th {\n",
       "        vertical-align: top;\n",
       "    }\n",
       "\n",
       "    .dataframe thead th {\n",
       "        text-align: right;\n",
       "    }\n",
       "</style>\n",
       "<table border=\"1\" class=\"dataframe\">\n",
       "  <thead>\n",
       "    <tr style=\"text-align: right;\">\n",
       "      <th></th>\n",
       "      <th>category_x</th>\n",
       "      <th>brand_x</th>\n",
       "      <th>color</th>\n",
       "      <th>category_y</th>\n",
       "      <th>brand_y</th>\n",
       "    </tr>\n",
       "  </thead>\n",
       "  <tbody>\n",
       "    <tr>\n",
       "      <th>0</th>\n",
       "      <td>mobile</td>\n",
       "      <td>iphone</td>\n",
       "      <td>black</td>\n",
       "      <td>NaN</td>\n",
       "      <td>NaN</td>\n",
       "    </tr>\n",
       "    <tr>\n",
       "      <th>1</th>\n",
       "      <td>laptops</td>\n",
       "      <td>asus</td>\n",
       "      <td>white</td>\n",
       "      <td>laptops</td>\n",
       "      <td>redmi</td>\n",
       "    </tr>\n",
       "    <tr>\n",
       "      <th>2</th>\n",
       "      <td>laptops</td>\n",
       "      <td>asus</td>\n",
       "      <td>white</td>\n",
       "      <td>tablets</td>\n",
       "      <td>samsung</td>\n",
       "    </tr>\n",
       "    <tr>\n",
       "      <th>3</th>\n",
       "      <td>tablets</td>\n",
       "      <td>samsung</td>\n",
       "      <td>red</td>\n",
       "      <td>NaN</td>\n",
       "      <td>NaN</td>\n",
       "    </tr>\n",
       "  </tbody>\n",
       "</table>\n",
       "</div>"
      ],
      "text/plain": [
       "  category_x  brand_x  color category_y  brand_y\n",
       "0     mobile   iphone  black        NaN      NaN\n",
       "1    laptops     asus  white    laptops    redmi\n",
       "2    laptops     asus  white    tablets  samsung\n",
       "3    tablets  samsung    red        NaN      NaN"
      ]
     },
     "execution_count": 53,
     "metadata": {},
     "output_type": "execute_result"
    }
   ],
   "source": [
    "pd.merge(df4,df5,how='left',on='color')"
   ]
  },
  {
   "cell_type": "code",
   "execution_count": 54,
   "id": "bf5f88f4",
   "metadata": {},
   "outputs": [
    {
     "name": "stdout",
     "output_type": "stream",
     "text": [
      "      brand   model sales\n",
      "1    maruti     800  3000\n",
      "2      tata  indica  4000\n",
      "3  mahindra  xuv500  9000\n",
      "\n",
      "    brand  model  sales\n",
      "1  maruti  ignis  10000\n",
      "2    tata   nano   1000\n",
      "4   honda   city   7000\n"
     ]
    }
   ],
   "source": [
    "#join\n",
    "df6=pd.DataFrame({'brand':['maruti','tata','mahindra'],\n",
    "                'model':['800','indica','xuv500'],\n",
    "                 'sales':['3000','4000','9000']},\n",
    "                index=['1','2','3'])\n",
    "df7=pd.DataFrame({'brand':['maruti','tata','honda'],\n",
    "                'model':['ignis','nano','city'],\n",
    "                 'sales':['10000','1000','7000']},\n",
    "                index=['1','2','4'])\n",
    "print(df6)\n",
    "print('')\n",
    "print(df7)"
   ]
  },
  {
   "cell_type": "code",
   "execution_count": 55,
   "id": "badcf65d",
   "metadata": {
    "scrolled": true
   },
   "outputs": [
    {
     "data": {
      "text/html": [
       "<div>\n",
       "<style scoped>\n",
       "    .dataframe tbody tr th:only-of-type {\n",
       "        vertical-align: middle;\n",
       "    }\n",
       "\n",
       "    .dataframe tbody tr th {\n",
       "        vertical-align: top;\n",
       "    }\n",
       "\n",
       "    .dataframe thead th {\n",
       "        text-align: right;\n",
       "    }\n",
       "</style>\n",
       "<table border=\"1\" class=\"dataframe\">\n",
       "  <thead>\n",
       "    <tr style=\"text-align: right;\">\n",
       "      <th></th>\n",
       "      <th>brand</th>\n",
       "      <th>model_x</th>\n",
       "      <th>sales_x</th>\n",
       "      <th>model_y</th>\n",
       "      <th>sales_y</th>\n",
       "    </tr>\n",
       "  </thead>\n",
       "  <tbody>\n",
       "    <tr>\n",
       "      <th>0</th>\n",
       "      <td>maruti</td>\n",
       "      <td>ignis</td>\n",
       "      <td>10000</td>\n",
       "      <td>800</td>\n",
       "      <td>3000</td>\n",
       "    </tr>\n",
       "    <tr>\n",
       "      <th>1</th>\n",
       "      <td>tata</td>\n",
       "      <td>nano</td>\n",
       "      <td>1000</td>\n",
       "      <td>indica</td>\n",
       "      <td>4000</td>\n",
       "    </tr>\n",
       "    <tr>\n",
       "      <th>2</th>\n",
       "      <td>honda</td>\n",
       "      <td>city</td>\n",
       "      <td>7000</td>\n",
       "      <td>NaN</td>\n",
       "      <td>NaN</td>\n",
       "    </tr>\n",
       "    <tr>\n",
       "      <th>3</th>\n",
       "      <td>mahindra</td>\n",
       "      <td>NaN</td>\n",
       "      <td>NaN</td>\n",
       "      <td>xuv500</td>\n",
       "      <td>9000</td>\n",
       "    </tr>\n",
       "  </tbody>\n",
       "</table>\n",
       "</div>"
      ],
      "text/plain": [
       "      brand model_x sales_x model_y sales_y\n",
       "0    maruti   ignis   10000     800    3000\n",
       "1      tata    nano    1000  indica    4000\n",
       "2     honda    city    7000     NaN     NaN\n",
       "3  mahindra     NaN     NaN  xuv500    9000"
      ]
     },
     "execution_count": 55,
     "metadata": {},
     "output_type": "execute_result"
    }
   ],
   "source": [
    "pd.merge(df7,df6,how='outer',on='brand')"
   ]
  },
  {
   "cell_type": "code",
   "execution_count": 56,
   "id": "e6aebaad",
   "metadata": {},
   "outputs": [],
   "source": [
    "#more funtions"
   ]
  },
  {
   "cell_type": "code",
   "execution_count": null,
   "id": "4f93d4da",
   "metadata": {},
   "outputs": [],
   "source": []
  },
  {
   "cell_type": "code",
   "execution_count": 57,
   "id": "e48e7b30",
   "metadata": {},
   "outputs": [
    {
     "data": {
      "text/html": [
       "<div>\n",
       "<style scoped>\n",
       "    .dataframe tbody tr th:only-of-type {\n",
       "        vertical-align: middle;\n",
       "    }\n",
       "\n",
       "    .dataframe tbody tr th {\n",
       "        vertical-align: top;\n",
       "    }\n",
       "\n",
       "    .dataframe thead th {\n",
       "        text-align: right;\n",
       "    }\n",
       "</style>\n",
       "<table border=\"1\" class=\"dataframe\">\n",
       "  <thead>\n",
       "    <tr style=\"text-align: right;\">\n",
       "      <th></th>\n",
       "      <th>ci</th>\n",
       "      <th>cii</th>\n",
       "      <th>ciii</th>\n",
       "      <th>civ</th>\n",
       "      <th>cv</th>\n",
       "    </tr>\n",
       "    <tr>\n",
       "      <th>new_index</th>\n",
       "      <th></th>\n",
       "      <th></th>\n",
       "      <th></th>\n",
       "      <th></th>\n",
       "      <th></th>\n",
       "    </tr>\n",
       "  </thead>\n",
       "  <tbody>\n",
       "    <tr>\n",
       "      <th>0</th>\n",
       "      <td>1.037788</td>\n",
       "      <td>0.886516</td>\n",
       "      <td>-1.434192</td>\n",
       "      <td>-0.570428</td>\n",
       "      <td>-0.625045</td>\n",
       "    </tr>\n",
       "    <tr>\n",
       "      <th>0</th>\n",
       "      <td>-0.121437</td>\n",
       "      <td>1.211036</td>\n",
       "      <td>2.126610</td>\n",
       "      <td>-0.252883</td>\n",
       "      <td>0.244003</td>\n",
       "    </tr>\n",
       "    <tr>\n",
       "      <th>0</th>\n",
       "      <td>-0.581972</td>\n",
       "      <td>0.389888</td>\n",
       "      <td>0.352059</td>\n",
       "      <td>1.138428</td>\n",
       "      <td>0.034441</td>\n",
       "    </tr>\n",
       "    <tr>\n",
       "      <th>0</th>\n",
       "      <td>0.228314</td>\n",
       "      <td>0.246544</td>\n",
       "      <td>0.921096</td>\n",
       "      <td>-0.546142</td>\n",
       "      <td>1.770634</td>\n",
       "    </tr>\n",
       "    <tr>\n",
       "      <th>0</th>\n",
       "      <td>-0.488802</td>\n",
       "      <td>1.045271</td>\n",
       "      <td>1.942689</td>\n",
       "      <td>-0.804945</td>\n",
       "      <td>1.211556</td>\n",
       "    </tr>\n",
       "  </tbody>\n",
       "</table>\n",
       "</div>"
      ],
      "text/plain": [
       "                 ci       cii      ciii       civ        cv\n",
       "new_index                                                  \n",
       "0          1.037788  0.886516 -1.434192 -0.570428 -0.625045\n",
       "0         -0.121437  1.211036  2.126610 -0.252883  0.244003\n",
       "0         -0.581972  0.389888  0.352059  1.138428  0.034441\n",
       "0          0.228314  0.246544  0.921096 -0.546142  1.770634\n",
       "0         -0.488802  1.045271  1.942689 -0.804945  1.211556"
      ]
     },
     "execution_count": 57,
     "metadata": {},
     "output_type": "execute_result"
    }
   ],
   "source": [
    "df3"
   ]
  },
  {
   "cell_type": "code",
   "execution_count": 58,
   "id": "4912c6c7",
   "metadata": {},
   "outputs": [
    {
     "data": {
      "text/plain": [
       "ci      0.014778\n",
       "cii     0.755851\n",
       "ciii    0.781652\n",
       "civ    -0.207194\n",
       "cv      0.527118\n",
       "dtype: float64"
      ]
     },
     "execution_count": 58,
     "metadata": {},
     "output_type": "execute_result"
    }
   ],
   "source": [
    "df3.mean()"
   ]
  },
  {
   "cell_type": "code",
   "execution_count": 59,
   "id": "6516fe5b",
   "metadata": {},
   "outputs": [
    {
     "data": {
      "text/plain": [
       "Index(['ci', 'cii', 'ciii', 'civ', 'cv'], dtype='object')"
      ]
     },
     "execution_count": 59,
     "metadata": {},
     "output_type": "execute_result"
    }
   ],
   "source": [
    "df3.columns"
   ]
  },
  {
   "cell_type": "code",
   "execution_count": 60,
   "id": "a7ce9185",
   "metadata": {},
   "outputs": [
    {
     "data": {
      "text/html": [
       "<div>\n",
       "<style scoped>\n",
       "    .dataframe tbody tr th:only-of-type {\n",
       "        vertical-align: middle;\n",
       "    }\n",
       "\n",
       "    .dataframe tbody tr th {\n",
       "        vertical-align: top;\n",
       "    }\n",
       "\n",
       "    .dataframe thead th {\n",
       "        text-align: right;\n",
       "    }\n",
       "</style>\n",
       "<table border=\"1\" class=\"dataframe\">\n",
       "  <thead>\n",
       "    <tr style=\"text-align: right;\">\n",
       "      <th></th>\n",
       "      <th>brand</th>\n",
       "      <th>model</th>\n",
       "      <th>sales</th>\n",
       "    </tr>\n",
       "  </thead>\n",
       "  <tbody>\n",
       "    <tr>\n",
       "      <th>1</th>\n",
       "      <td>maruti</td>\n",
       "      <td>ignis</td>\n",
       "      <td>10000</td>\n",
       "    </tr>\n",
       "    <tr>\n",
       "      <th>2</th>\n",
       "      <td>tata</td>\n",
       "      <td>nano</td>\n",
       "      <td>1000</td>\n",
       "    </tr>\n",
       "    <tr>\n",
       "      <th>4</th>\n",
       "      <td>honda</td>\n",
       "      <td>city</td>\n",
       "      <td>7000</td>\n",
       "    </tr>\n",
       "  </tbody>\n",
       "</table>\n",
       "</div>"
      ],
      "text/plain": [
       "    brand  model  sales\n",
       "1  maruti  ignis  10000\n",
       "2    tata   nano   1000\n",
       "4   honda   city   7000"
      ]
     },
     "execution_count": 60,
     "metadata": {},
     "output_type": "execute_result"
    }
   ],
   "source": [
    "df7"
   ]
  },
  {
   "cell_type": "code",
   "execution_count": 61,
   "id": "df6dce20",
   "metadata": {},
   "outputs": [
    {
     "data": {
      "text/plain": [
       "1    1000010000\n",
       "2      10001000\n",
       "4      70007000\n",
       "Name: sales, dtype: object"
      ]
     },
     "execution_count": 61,
     "metadata": {},
     "output_type": "execute_result"
    }
   ],
   "source": [
    "def profit(p):\n",
    "    z=p*2\n",
    "    return z\n",
    "df7['sales'].apply(profit)\n",
    "\n",
    "    "
   ]
  },
  {
   "cell_type": "code",
   "execution_count": 62,
   "id": "f506720d",
   "metadata": {},
   "outputs": [
    {
     "data": {
      "text/html": [
       "<div>\n",
       "<style scoped>\n",
       "    .dataframe tbody tr th:only-of-type {\n",
       "        vertical-align: middle;\n",
       "    }\n",
       "\n",
       "    .dataframe tbody tr th {\n",
       "        vertical-align: top;\n",
       "    }\n",
       "\n",
       "    .dataframe thead th {\n",
       "        text-align: right;\n",
       "    }\n",
       "</style>\n",
       "<table border=\"1\" class=\"dataframe\">\n",
       "  <thead>\n",
       "    <tr style=\"text-align: right;\">\n",
       "      <th></th>\n",
       "      <th>brand</th>\n",
       "      <th>model</th>\n",
       "      <th>sales</th>\n",
       "    </tr>\n",
       "  </thead>\n",
       "  <tbody>\n",
       "    <tr>\n",
       "      <th>1</th>\n",
       "      <td>maruti</td>\n",
       "      <td>ignis</td>\n",
       "      <td>10000</td>\n",
       "    </tr>\n",
       "    <tr>\n",
       "      <th>2</th>\n",
       "      <td>tata</td>\n",
       "      <td>nano</td>\n",
       "      <td>1000</td>\n",
       "    </tr>\n",
       "    <tr>\n",
       "      <th>4</th>\n",
       "      <td>honda</td>\n",
       "      <td>city</td>\n",
       "      <td>7000</td>\n",
       "    </tr>\n",
       "  </tbody>\n",
       "</table>\n",
       "</div>"
      ],
      "text/plain": [
       "    brand  model  sales\n",
       "1  maruti  ignis  10000\n",
       "2    tata   nano   1000\n",
       "4   honda   city   7000"
      ]
     },
     "execution_count": 62,
     "metadata": {},
     "output_type": "execute_result"
    }
   ],
   "source": [
    "#saving and loading dataframe files into csv(comma seperated values)\n",
    "df7"
   ]
  },
  {
   "cell_type": "markdown",
   "id": "561473eb",
   "metadata": {},
   "source": [
    "# visualization"
   ]
  },
  {
   "cell_type": "code",
   "execution_count": 63,
   "id": "0fb3a75d",
   "metadata": {},
   "outputs": [
    {
     "data": {
      "text/plain": [
       "array([ 1,  2,  3,  4,  5,  6,  7,  8,  9, 10])"
      ]
     },
     "execution_count": 63,
     "metadata": {},
     "output_type": "execute_result"
    }
   ],
   "source": [
    "x=np.arange(1,11)\n",
    "x"
   ]
  },
  {
   "cell_type": "code",
   "execution_count": 64,
   "id": "0e9bec6f",
   "metadata": {},
   "outputs": [
    {
     "data": {
      "text/plain": [
       "array([ -1,   5,  15,  29,  47,  69,  95, 125, 159, 197])"
      ]
     },
     "execution_count": 64,
     "metadata": {},
     "output_type": "execute_result"
    }
   ],
   "source": [
    "y=2*(x*x)-3\n",
    "y"
   ]
  },
  {
   "cell_type": "code",
   "execution_count": 65,
   "id": "26c15241",
   "metadata": {},
   "outputs": [
    {
     "data": {
      "image/png": "[encoded data removed]",
      "text/plain": [
       "<Figure size 432x288 with 1 Axes>"
      ]
     },
     "metadata": {
      "needs_background": "light"
     },
     "output_type": "display_data"
    }
   ],
   "source": [
    "plt.plot(x,y,color='yellow',linestyle=':',linewidth='5')\n",
    "plt.title('x v/s y')\n",
    "plt.xlabel('x')\n",
    "plt.ylabel('y')\n",
    "plt.show()"
   ]
  },
  {
   "cell_type": "code",
   "execution_count": 66,
   "id": "6c11632b",
   "metadata": {},
   "outputs": [
    {
     "data": {
      "text/plain": [
       "array([ 1,  2,  3,  4,  5,  6,  7,  8,  9, 10])"
      ]
     },
     "execution_count": 66,
     "metadata": {},
     "output_type": "execute_result"
    }
   ],
   "source": [
    "x"
   ]
  },
  {
   "cell_type": "code",
   "execution_count": 67,
   "id": "1efdde97",
   "metadata": {},
   "outputs": [
    {
     "data": {
      "text/plain": [
       "array([ 8, 12, 16, 20, 24, 28, 32, 36, 40, 44])"
      ]
     },
     "execution_count": 67,
     "metadata": {},
     "output_type": "execute_result"
    }
   ],
   "source": [
    "y1=4*x+4\n",
    "y1"
   ]
  },
  {
   "cell_type": "code",
   "execution_count": 68,
   "id": "d5549041",
   "metadata": {},
   "outputs": [
    {
     "data": {
      "text/plain": [
       "(array([ 9, 14, 19, 24, 29, 34, 39, 44, 49, 54]),\n",
       " array([17, 26, 35, 44, 53, 62, 71, 80, 89, 98]))"
      ]
     },
     "execution_count": 68,
     "metadata": {},
     "output_type": "execute_result"
    }
   ],
   "source": [
    "y2=y1+x\n",
    "y3=2*y2-x\n",
    "y2,y3\n",
    "\n"
   ]
  },
  {
   "cell_type": "code",
   "execution_count": 69,
   "id": "2f2603da",
   "metadata": {},
   "outputs": [
    {
     "data": {
      "image/png": "[encoded data removed]",
      "text/plain": [
       "<Figure size 432x288 with 1 Axes>"
      ]
     },
     "metadata": {
      "needs_background": "light"
     },
     "output_type": "display_data"
    }
   ],
   "source": [
    "plt.plot(x,y1,color='blue',linestyle='-.')\n",
    "plt.plot(x,y2,color='yellow',linestyle='-')\n",
    "plt.plot(x,y3,color='red',linestyle=':')\n",
    "plt.title('x v/s y1,y2,y3')\n",
    "plt.xlabel('x')\n",
    "plt.ylabel('y1,y2,y3')\n",
    "plt.grid(True)\n",
    "plt.show()"
   ]
  },
  {
   "cell_type": "code",
   "execution_count": 70,
   "id": "29c828a8",
   "metadata": {},
   "outputs": [
    {
     "data": {
      "image/png": "[encoded data removed]",
      "text/plain": [
       "<Figure size 432x288 with 3 Axes>"
      ]
     },
     "metadata": {
      "needs_background": "light"
     },
     "output_type": "display_data"
    }
   ],
   "source": [
    "plt.subplot(1,3,1)\n",
    "plt.plot(x,y1,color='blue',linestyle='-.')\n",
    "plt.subplot(1,3,2)\n",
    "plt.plot(x,y2,color='yellow',linestyle='-')\n",
    "plt.subplot(1,3,3)\n",
    "plt.plot(x,y3,color='red',linestyle=':')\n",
    "plt.grid(True)\n",
    "plt.show()"
   ]
  },
  {
   "cell_type": "code",
   "execution_count": 71,
   "id": "ab8092b7",
   "metadata": {},
   "outputs": [
    {
     "data": {
      "image/png": "[encoded data removed]",
      "text/plain": [
       "<Figure size 432x288 with 1 Axes>"
      ]
     },
     "metadata": {
      "needs_background": "light"
     },
     "output_type": "display_data"
    }
   ],
   "source": [
    "student={\"ram\":89,\"shayam\":79,\"kishan\":54}\n",
    "names=list(student.keys())\n",
    "values=list(student.values())\n",
    "plt.bar(names,values,color='yellow')\n",
    "plt.show()"
   ]
  },
  {
   "cell_type": "code",
   "execution_count": 87,
   "id": "78b52128",
   "metadata": {},
   "outputs": [
    {
     "name": "stderr",
     "output_type": "stream",
     "text": [
      "<ipython-input-87-0b2791ff0c29>:4: MatplotlibDeprecationWarning: Adding an axes using the same arguments as a previous axes currently reuses the earlier instance.  In a future version, a new instance will always be created and returned.  Meanwhile, this warning can be suppressed, and the future behavior ensured, by passing a unique label to each axes instance.\n",
      "  ax=plt.axes()\n"
     ]
    },
    {
     "data": {
      "image/png": "[encoded data removed]",
      "text/plain": [
       "<Figure size 432x288 with 1 Axes>"
      ]
     },
     "metadata": {},
     "output_type": "display_data"
    }
   ],
   "source": [
    "plt.barh(names,values,color='yellow')\n",
    "#plt.grid(True)\n",
    "#plt.figure(facecolor='blue')\n",
    "ax=plt.axes()\n",
    "ax.set_facecolor('red')\n",
    "plt.show()"
   ]
  },
  {
   "cell_type": "code",
   "execution_count": 73,
   "id": "9514bf91",
   "metadata": {},
   "outputs": [
    {
     "data": {
      "image/png": "[encoded data removed]",
      "text/plain": [
       "<Figure size 432x288 with 1 Axes>"
      ]
     },
     "metadata": {
      "needs_background": "light"
     },
     "output_type": "display_data"
    }
   ],
   "source": [
    "plt.scatter(x,y,color='yellow',marker='*',s=200)\n",
    "plt.title('x v/s y')\n",
    "plt.xlabel('x')\n",
    "plt.ylabel('y')\n",
    "plt.show()"
   ]
  },
  {
   "cell_type": "code",
   "execution_count": 74,
   "id": "3ebcce22",
   "metadata": {},
   "outputs": [
    {
     "data": {
      "image/png": "[encoded data removed]",
      "text/plain": [
       "<Figure size 432x288 with 1 Axes>"
      ]
     },
     "metadata": {
      "needs_background": "light"
     },
     "output_type": "display_data"
    }
   ],
   "source": [
    "plt.scatter(x,y1,color='blue',marker='*',s=100)\n",
    "plt.scatter(x,y2,color='yellow',marker='+',s=150)\n",
    "plt.scatter(x,y3,color='red',marker='o',s=200)\n",
    "plt.title('x v/s y1,y2,y3')\n",
    "plt.xlabel('x')\n",
    "plt.ylabel('y1,y2,y3')\n",
    "plt.grid(True)\n",
    "plt.show()"
   ]
  },
  {
   "cell_type": "code",
   "execution_count": 75,
   "id": "5b6ec5c4",
   "metadata": {},
   "outputs": [
    {
     "data": {
      "image/png": "[encoded data removed]",
      "text/plain": [
       "<Figure size 432x288 with 3 Axes>"
      ]
     },
     "metadata": {
      "needs_background": "light"
     },
     "output_type": "display_data"
    }
   ],
   "source": [
    "plt.subplot(1,3,1)\n",
    "plt.scatter(x,y1,color='blue',marker='*',s=100)\n",
    "plt.subplot(1,3,2)\n",
    "plt.scatter(x,y2,color='yellow',marker='+',s=150)\n",
    "plt.subplot(1,3,3)\n",
    "plt.scatter(x,y3,color='red',marker='o',s=200)\n",
    "plt.show()"
   ]
  },
  {
   "cell_type": "code",
   "execution_count": 76,
   "id": "28026eee",
   "metadata": {},
   "outputs": [
    {
     "data": {
      "text/plain": [
       "(array([1., 2., 2., 3., 2., 2., 3., 4., 3., 1.]),\n",
       " array([0. , 0.9, 1.8, 2.7, 3.6, 4.5, 5.4, 6.3, 7.2, 8.1, 9. ]),\n",
       " <BarContainer object of 10 artists>)"
      ]
     },
     "execution_count": 76,
     "metadata": {},
     "output_type": "execute_result"
    },
    {
     "data": {
      "image/png": "[encoded data removed]",
      "text/plain": [
       "<Figure size 432x288 with 1 Axes>"
      ]
     },
     "metadata": {
      "needs_background": "light"
     },
     "output_type": "display_data"
    }
   ],
   "source": [
    "data=[2,1,3,4,2,3,3,5,5,4,6,7,7,8,7,8,6,9,7,8,0,1,6]\n",
    "plt.hist(data,color='y',bins=10)"
   ]
  },
  {
   "cell_type": "code",
   "execution_count": 77,
   "id": "6b221fc8",
   "metadata": {},
   "outputs": [
    {
     "data": {
      "image/png": "[encoded data removed]",
      "text/plain": [
       "<Figure size 432x288 with 1 Axes>"
      ]
     },
     "metadata": {
      "needs_background": "light"
     },
     "output_type": "display_data"
    }
   ],
   "source": [
    "one=[1,2,3,4,1,6,7,8,9]\n",
    "two=[4,5,6,7,9,9]\n",
    "three=[1,2,3,3,2,1,3,4,5,6,7,7,9]\n",
    "data=list([one,two,three])\n",
    "plt.boxplot(data)\n",
    "plt.show()"
   ]
  },
  {
   "cell_type": "code",
   "execution_count": 78,
   "id": "9186d16d",
   "metadata": {},
   "outputs": [
    {
     "data": {
      "image/png": "[encoded data removed]",
      "text/plain": [
       "<Figure size 432x288 with 1 Axes>"
      ]
     },
     "metadata": {
      "needs_background": "light"
     },
     "output_type": "display_data"
    }
   ],
   "source": [
    "plt.violinplot(data,showmedians=True)\n",
    "plt.show()"
   ]
  },
  {
   "cell_type": "code",
   "execution_count": 79,
   "id": "d4c90239",
   "metadata": {},
   "outputs": [
    {
     "data": {
      "image/png": "[encoded data removed]",
      "text/plain": [
       "<Figure size 432x288 with 1 Axes>"
      ]
     },
     "metadata": {},
     "output_type": "display_data"
    }
   ],
   "source": [
    "student={\"ram\":89,\"shayam\":79,\"kishan\":54}\n",
    "names=list(student.keys())\n",
    "values=list(student.values())\n",
    "plt.pie(values,labels=names)\n",
    "plt.show()"
   ]
  },
  {
   "cell_type": "code",
   "execution_count": 80,
   "id": "4e0766c9",
   "metadata": {},
   "outputs": [
    {
     "data": {
      "image/png": "[encoded data removed]",
      "text/plain": [
       "<Figure size 432x288 with 1 Axes>"
      ]
     },
     "metadata": {},
     "output_type": "display_data"
    }
   ],
   "source": [
    "plt.pie(values,labels=names,autopct='%0.1f%%',colors=['b','yellow','r'])\n",
    "plt.show()"
   ]
  },
  {
   "cell_type": "code",
   "execution_count": 81,
   "id": "9314dc6a",
   "metadata": {
    "scrolled": false
   },
   "outputs": [
    {
     "data": {
      "image/png": "[encoded data removed]",
      "text/plain": [
       "<Figure size 432x288 with 1 Axes>"
      ]
     },
     "metadata": {},
     "output_type": "display_data"
    }
   ],
   "source": [
    "plt.pie(values,labels=names,autopct='%0.1f%%',colors=['b','yellow','r'],radius=2)\n",
    "plt.pie([1],colors=['w'],radius=1)\n",
    "plt.show()"
   ]
  },
  {
   "cell_type": "code",
   "execution_count": null,
   "id": "f4ac2e5e",
   "metadata": {
    "scrolled": true
   },
   "outputs": [],
   "source": []
  },
  {
   "cell_type": "code",
   "execution_count": null,
   "id": "97bc7c1e",
   "metadata": {},
   "outputs": [],
   "source": []
  },
  {
   "cell_type": "code",
   "execution_count": null,
   "id": "af11ec99",
   "metadata": {
    "scrolled": false
   },
   "outputs": [],
   "source": []
  },
  {
   "cell_type": "code",
   "execution_count": null,
   "id": "10e065bf",
   "metadata": {},
   "outputs": [],
   "source": []
  },
  {
   "cell_type": "code",
   "execution_count": null,
   "id": "9966df34",
   "metadata": {},
   "outputs": [],
   "source": []
  },
  {
   "cell_type": "code",
   "execution_count": null,
   "id": "a0338151",
   "metadata": {},
   "outputs": [],
   "source": []
  },
  {
   "cell_type": "code",
   "execution_count": null,
   "id": "0d94678b",
   "metadata": {},
   "outputs": [],
   "source": []
  },
  {
   "cell_type": "code",
   "execution_count": null,
   "id": "21081e2a",
   "metadata": {},
   "outputs": [],
   "source": []
  },
  {
   "cell_type": "code",
   "execution_count": null,
   "id": "78ebd0b0",
   "metadata": {},
   "outputs": [],
   "source": []
  },
  {
   "cell_type": "code",
   "execution_count": null,
   "id": "cfba69fb",
   "metadata": {},
   "outputs": [],
   "source": []
  }
 ],
 "metadata": {
  "kernelspec": {
   "display_name": "Python 3",
   "language": "python",
   "name": "python3"
  },
  "language_info": {
   "codemirror_mode": {
    "name": "ipython",
    "version": 3
   },
   "file_extension": ".py",
   "mimetype": "text/x-python",
   "name": "python",
   "nbconvert_exporter": "python",
   "pygments_lexer": "ipython3",
   "version": "3.8.8"
  }
 },
 "nbformat": 4,
 "nbformat_minor": 5
}
